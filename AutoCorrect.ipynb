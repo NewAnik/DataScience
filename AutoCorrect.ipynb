{
  "nbformat": 4,
  "nbformat_minor": 0,
  "metadata": {
    "colab": {
      "name": "AutoCorrect.ipynb",
      "provenance": [],
      "collapsed_sections": [],
      "authorship_tag": "ABX9TyOTKKeD6m9wF0W9ECAPKW6I",
      "include_colab_link": true
    },
    "kernelspec": {
      "name": "python3",
      "display_name": "Python 3"
    }
  },
  "cells": [
    {
      "cell_type": "markdown",
      "metadata": {
        "id": "view-in-github",
        "colab_type": "text"
      },
      "source": [
        "<a href=\"https://colab.research.google.com/github/NewAnik/DataScience/blob/master/AutoCorrect.ipynb\" target=\"_parent\"><img src=\"https://colab.research.google.com/assets/colab-badge.svg\" alt=\"Open In Colab\"/></a>"
      ]
    },
    {
      "cell_type": "code",
      "metadata": {
        "colab": {
          "base_uri": "https://localhost:8080/"
        },
        "id": "QtdAZ3Bj39UM",
        "outputId": "54dda1d4-07bf-4cfe-c5e3-27ca7673ceb5"
      },
      "source": [
        "pip install textdistance"
      ],
      "execution_count": null,
      "outputs": [
        {
          "output_type": "stream",
          "text": [
            "Requirement already satisfied: textdistance in /usr/local/lib/python3.6/dist-packages (4.2.0)\n"
          ],
          "name": "stdout"
        }
      ]
    },
    {
      "cell_type": "code",
      "metadata": {
        "colab": {
          "base_uri": "https://localhost:8080/"
        },
        "id": "Y3wGStq-w3gg",
        "outputId": "1392316e-4c5e-42b9-88b9-c6910fb6b672"
      },
      "source": [
        "import pandas as pd\r\n",
        "import numpy as np\r\n",
        "import textdistance\r\n",
        "import re\r\n",
        "from collections import Counter\r\n",
        "words = []\r\n",
        "with open('AutoCorrect_Book.txt', 'r') as f:\r\n",
        "    file_name_data = f.read()\r\n",
        "    file_name_data=file_name_data.lower()\r\n",
        "    words = re.findall('\\w+',file_name_data)\r\n",
        "# This is our vocabulary\r\n",
        "V = set(words)\r\n",
        "print(f\"The first ten words in the text are: \\n{words[0:10]}\")\r\n",
        "print(f\"There are {len(V)} unique words in the vocabulary.\")"
      ],
      "execution_count": null,
      "outputs": [
        {
          "output_type": "stream",
          "text": [
            "The first ten words in the text are: \n",
            "['the', 'project', 'gutenberg', 'ebook', 'of', 'moby', 'dick', 'or', 'the', 'whale']\n",
            "There are 17647 unique words in the vocabulary.\n"
          ],
          "name": "stdout"
        }
      ]
    },
    {
      "cell_type": "code",
      "metadata": {
        "colab": {
          "base_uri": "https://localhost:8080/"
        },
        "id": "sJeJVttu03Ct",
        "outputId": "cde2dc57-a82d-4a8e-acc5-1b489dc58889"
      },
      "source": [
        "word_freq_dict = {}  \r\n",
        "word_freq_dict = Counter(words)\r\n",
        "print(word_freq_dict.most_common()[0:10])"
      ],
      "execution_count": null,
      "outputs": [
        {
          "output_type": "stream",
          "text": [
            "[('the', 14703), ('of', 6742), ('and', 6517), ('a', 4799), ('to', 4707), ('in', 4238), ('that', 3081), ('it', 2534), ('his', 2530), ('i', 2120)]\n"
          ],
          "name": "stdout"
        }
      ]
    },
    {
      "cell_type": "code",
      "metadata": {
        "id": "gff6xY9w0678"
      },
      "source": [
        "probs = {}     \r\n",
        "Total = sum(word_freq_dict.values())    \r\n",
        "for k in word_freq_dict.keys():\r\n",
        "    probs[k] = word_freq_dict[k]/Total"
      ],
      "execution_count": null,
      "outputs": []
    },
    {
      "cell_type": "code",
      "metadata": {
        "colab": {
          "base_uri": "https://localhost:8080/"
        },
        "id": "EzFLMgLx3qYh",
        "outputId": "4098db7a-02d7-4079-a561-3c171477ce73"
      },
      "source": [
        "import textdistance\r\n",
        "tokens_1 = \"hello world\".split()\r\n",
        "tokens_2 = \"world hello\".split()\r\n",
        "textdistance.jaccard(tokens_1 , tokens_2)"
      ],
      "execution_count": null,
      "outputs": [
        {
          "output_type": "execute_result",
          "data": {
            "text/plain": [
              "1.0"
            ]
          },
          "metadata": {
            "tags": []
          },
          "execution_count": 24
        }
      ]
    },
    {
      "cell_type": "code",
      "metadata": {
        "id": "vSeIguSF1DmD"
      },
      "source": [
        "\r\n",
        "def my_autocorrect(input_word):\r\n",
        "    input_word = input_word.lower()\r\n",
        "    if input_word in V:\r\n",
        "        return('Your word seems to be correct')\r\n",
        "    else:\r\n",
        "        similarities = [1-(textdistance.Jaccard(qval=2).distance(v,input_word)) for v in word_freq_dict.keys()]\r\n",
        "        df = pd.DataFrame.from_dict(probs, orient='index').reset_index()\r\n",
        "        df = df.rename(columns={'index':'Word', 0:'Prob'})\r\n",
        "        df['Similarity'] = similarities\r\n",
        "        output = df.sort_values(['Similarity', 'Prob'], ascending=False).head()\r\n",
        "        return(output)"
      ],
      "execution_count": null,
      "outputs": []
    },
    {
      "cell_type": "code",
      "metadata": {
        "colab": {
          "base_uri": "https://localhost:8080/",
          "height": 204
        },
        "id": "vDje_BZf12Rt",
        "outputId": "66714da9-618d-440e-86bc-e11e95959a30"
      },
      "source": [
        "my_autocorrect('youd')"
      ],
      "execution_count": null,
      "outputs": [
        {
          "output_type": "execute_result",
          "data": {
            "text/html": [
              "<div>\n",
              "<style scoped>\n",
              "    .dataframe tbody tr th:only-of-type {\n",
              "        vertical-align: middle;\n",
              "    }\n",
              "\n",
              "    .dataframe tbody tr th {\n",
              "        vertical-align: top;\n",
              "    }\n",
              "\n",
              "    .dataframe thead th {\n",
              "        text-align: right;\n",
              "    }\n",
              "</style>\n",
              "<table border=\"1\" class=\"dataframe\">\n",
              "  <thead>\n",
              "    <tr style=\"text-align: right;\">\n",
              "      <th></th>\n",
              "      <th>Word</th>\n",
              "      <th>Prob</th>\n",
              "      <th>Similarity</th>\n",
              "    </tr>\n",
              "  </thead>\n",
              "  <tbody>\n",
              "    <tr>\n",
              "      <th>26</th>\n",
              "      <td>you</td>\n",
              "      <td>0.004302</td>\n",
              "      <td>0.666667</td>\n",
              "    </tr>\n",
              "    <tr>\n",
              "      <th>673</th>\n",
              "      <td>your</td>\n",
              "      <td>0.001154</td>\n",
              "      <td>0.500000</td>\n",
              "    </tr>\n",
              "    <tr>\n",
              "      <th>2499</th>\n",
              "      <td>loud</td>\n",
              "      <td>0.000054</td>\n",
              "      <td>0.500000</td>\n",
              "    </tr>\n",
              "    <tr>\n",
              "      <th>2356</th>\n",
              "      <td>young</td>\n",
              "      <td>0.000359</td>\n",
              "      <td>0.400000</td>\n",
              "    </tr>\n",
              "    <tr>\n",
              "      <th>4367</th>\n",
              "      <td>youth</td>\n",
              "      <td>0.000040</td>\n",
              "      <td>0.400000</td>\n",
              "    </tr>\n",
              "  </tbody>\n",
              "</table>\n",
              "</div>"
            ],
            "text/plain": [
              "       Word      Prob  Similarity\n",
              "26      you  0.004302    0.666667\n",
              "673    your  0.001154    0.500000\n",
              "2499   loud  0.000054    0.500000\n",
              "2356  young  0.000359    0.400000\n",
              "4367  youth  0.000040    0.400000"
            ]
          },
          "metadata": {
            "tags": []
          },
          "execution_count": 29
        }
      ]
    }
  ]
}