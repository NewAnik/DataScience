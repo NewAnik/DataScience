{
  "nbformat": 4,
  "nbformat_minor": 0,
  "metadata": {
    "colab": {
      "name": "Mnist data.ipynb",
      "provenance": [],
      "authorship_tag": "ABX9TyPWm4h+iS/p9b1CL1BDIt4f",
      "include_colab_link": true
    },
    "kernelspec": {
      "name": "python3",
      "display_name": "Python 3"
    }
  },
  "cells": [
    {
      "cell_type": "markdown",
      "metadata": {
        "id": "view-in-github",
        "colab_type": "text"
      },
      "source": [
        "<a href=\"https://colab.research.google.com/github/NewAnik/DataScience/blob/master/Mnist_data.ipynb\" target=\"_parent\"><img src=\"https://colab.research.google.com/assets/colab-badge.svg\" alt=\"Open In Colab\"/></a>"
      ]
    },
    {
      "cell_type": "code",
      "metadata": {
        "id": "y6EpaooyKOSH"
      },
      "source": [
        "import numpy as np\n",
        "import pandas as pd\n",
        "import matplotlib.pyplot as plt\n"
      ],
      "execution_count": null,
      "outputs": []
    },
    {
      "cell_type": "code",
      "metadata": {
        "id": "HbXPArapmN66",
        "colab": {
          "base_uri": "https://localhost:8080/",
          "height": 153
        },
        "outputId": "d976cd99-ac9b-44b6-b7c2-12af4f0b1178"
      },
      "source": [
        "d0 = pd.read_csv('./mnist_train.csv')\n",
        "print(d0.head(5))"
      ],
      "execution_count": null,
      "outputs": [
        {
          "output_type": "stream",
          "text": [
            "   label  pixel0  pixel1  pixel2  ...  pixel780  pixel781  pixel782  pixel783\n",
            "0      1       0       0       0  ...       0.0       0.0       0.0       0.0\n",
            "1      0       0       0       0  ...       0.0       0.0       0.0       0.0\n",
            "2      1       0       0       0  ...       0.0       0.0       0.0       0.0\n",
            "3      4       0       0       0  ...       0.0       0.0       0.0       0.0\n",
            "4      0       0       0       0  ...       0.0       0.0       0.0       0.0\n",
            "\n",
            "[5 rows x 785 columns]\n"
          ],
          "name": "stdout"
        }
      ]
    },
    {
      "cell_type": "code",
      "metadata": {
        "id": "O0xHf8Xvo7bz"
      },
      "source": [
        "l = d0['label']\n",
        "d = d0.drop(\"label\", axis = 1)"
      ],
      "execution_count": null,
      "outputs": []
    }
  ]
}