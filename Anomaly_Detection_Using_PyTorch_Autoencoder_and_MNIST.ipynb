{
  "nbformat": 4,
  "nbformat_minor": 0,
  "metadata": {
    "colab": {
      "name": "Anomaly Detection Using PyTorch Autoencoder and MNIST.ipynb",
      "provenance": [],
      "collapsed_sections": [],
      "authorship_tag": "ABX9TyMXtLiZ/pEltN6bwHbvMZ+L",
      "include_colab_link": true
    },
    "kernelspec": {
      "name": "python3",
      "display_name": "Python 3"
    }
  },
  "cells": [
    {
      "cell_type": "markdown",
      "metadata": {
        "id": "view-in-github",
        "colab_type": "text"
      },
      "source": [
        "<a href=\"https://colab.research.google.com/github/NewAnik/DataScience/blob/master/Anomaly_Detection_Using_PyTorch_Autoencoder_and_MNIST.ipynb\" target=\"_parent\"><img src=\"https://colab.research.google.com/assets/colab-badge.svg\" alt=\"Open In Colab\"/></a>"
      ]
    },
    {
      "cell_type": "code",
      "metadata": {
        "id": "hterq1EBI1UB"
      },
      "source": [
        "import random\r\n",
        "                       \r\n",
        "import pandas as pd                       \r\n",
        "import matplotlib.pyplot as plt                       \r\n",
        "import numpy as np"
      ],
      "execution_count": null,
      "outputs": []
    },
    {
      "cell_type": "code",
      "metadata": {
        "id": "OPfIFA63MHj0"
      },
      "source": [
        "df = pd.read_csv('mnist_test.csv')"
      ],
      "execution_count": null,
      "outputs": []
    },
    {
      "cell_type": "code",
      "metadata": {
        "colab": {
          "base_uri": "https://localhost:8080/"
        },
        "id": "HduxiySqMtWA",
        "outputId": "157278af-8d42-4016-ac3d-2229fbbfc11c"
      },
      "source": [
        "df.shape"
      ],
      "execution_count": null,
      "outputs": [
        {
          "output_type": "execute_result",
          "data": {
            "text/plain": [
              "(10000, 785)"
            ]
          },
          "metadata": {
            "tags": []
          },
          "execution_count": 5
        }
      ]
    },
    {
      "cell_type": "code",
      "metadata": {
        "id": "JanrpF2XMp7V"
      },
      "source": [
        "anom = df[:1000]\r\n",
        "clean = df[1000:]"
      ],
      "execution_count": null,
      "outputs": []
    },
    {
      "cell_type": "code",
      "metadata": {
        "id": "WQIZkeDyNcE-"
      },
      "source": [
        "for i in range(len(anom)):\r\n",
        "    # select row from anom\r\n",
        "    row = anom.iloc[i]\r\n",
        "    # iterate through each element in row\r\n",
        "    for i in range(len(row)-1):\r\n",
        "        # add noise to element\r\n",
        "        row[i+1] = min(255, row[i+1]+random.randint(100,200))"
      ],
      "execution_count": null,
      "outputs": []
    },
    {
      "cell_type": "code",
      "metadata": {
        "colab": {
          "base_uri": "https://localhost:8080/",
          "height": 253
        },
        "id": "iFZfQsxLSLcx",
        "outputId": "a0d0c0da-edd4-4ecc-ff88-b0dc73725b4d"
      },
      "source": [
        "anom.head(5)"
      ],
      "execution_count": null,
      "outputs": [
        {
          "output_type": "execute_result",
          "data": {
            "text/html": [
              "<div>\n",
              "<style scoped>\n",
              "    .dataframe tbody tr th:only-of-type {\n",
              "        vertical-align: middle;\n",
              "    }\n",
              "\n",
              "    .dataframe tbody tr th {\n",
              "        vertical-align: top;\n",
              "    }\n",
              "\n",
              "    .dataframe thead th {\n",
              "        text-align: right;\n",
              "    }\n",
              "</style>\n",
              "<table border=\"1\" class=\"dataframe\">\n",
              "  <thead>\n",
              "    <tr style=\"text-align: right;\">\n",
              "      <th></th>\n",
              "      <th>label</th>\n",
              "      <th>1x1</th>\n",
              "      <th>1x2</th>\n",
              "      <th>1x3</th>\n",
              "      <th>1x4</th>\n",
              "      <th>1x5</th>\n",
              "      <th>1x6</th>\n",
              "      <th>1x7</th>\n",
              "      <th>1x8</th>\n",
              "      <th>1x9</th>\n",
              "      <th>1x10</th>\n",
              "      <th>1x11</th>\n",
              "      <th>1x12</th>\n",
              "      <th>1x13</th>\n",
              "      <th>1x14</th>\n",
              "      <th>1x15</th>\n",
              "      <th>1x16</th>\n",
              "      <th>1x17</th>\n",
              "      <th>1x18</th>\n",
              "      <th>1x19</th>\n",
              "      <th>1x20</th>\n",
              "      <th>1x21</th>\n",
              "      <th>1x22</th>\n",
              "      <th>1x23</th>\n",
              "      <th>1x24</th>\n",
              "      <th>1x25</th>\n",
              "      <th>1x26</th>\n",
              "      <th>1x27</th>\n",
              "      <th>1x28</th>\n",
              "      <th>2x1</th>\n",
              "      <th>2x2</th>\n",
              "      <th>2x3</th>\n",
              "      <th>2x4</th>\n",
              "      <th>2x5</th>\n",
              "      <th>2x6</th>\n",
              "      <th>2x7</th>\n",
              "      <th>2x8</th>\n",
              "      <th>2x9</th>\n",
              "      <th>2x10</th>\n",
              "      <th>2x11</th>\n",
              "      <th>...</th>\n",
              "      <th>27x17</th>\n",
              "      <th>27x18</th>\n",
              "      <th>27x19</th>\n",
              "      <th>27x20</th>\n",
              "      <th>27x21</th>\n",
              "      <th>27x22</th>\n",
              "      <th>27x23</th>\n",
              "      <th>27x24</th>\n",
              "      <th>27x25</th>\n",
              "      <th>27x26</th>\n",
              "      <th>27x27</th>\n",
              "      <th>27x28</th>\n",
              "      <th>28x1</th>\n",
              "      <th>28x2</th>\n",
              "      <th>28x3</th>\n",
              "      <th>28x4</th>\n",
              "      <th>28x5</th>\n",
              "      <th>28x6</th>\n",
              "      <th>28x7</th>\n",
              "      <th>28x8</th>\n",
              "      <th>28x9</th>\n",
              "      <th>28x10</th>\n",
              "      <th>28x11</th>\n",
              "      <th>28x12</th>\n",
              "      <th>28x13</th>\n",
              "      <th>28x14</th>\n",
              "      <th>28x15</th>\n",
              "      <th>28x16</th>\n",
              "      <th>28x17</th>\n",
              "      <th>28x18</th>\n",
              "      <th>28x19</th>\n",
              "      <th>28x20</th>\n",
              "      <th>28x21</th>\n",
              "      <th>28x22</th>\n",
              "      <th>28x23</th>\n",
              "      <th>28x24</th>\n",
              "      <th>28x25</th>\n",
              "      <th>28x26</th>\n",
              "      <th>28x27</th>\n",
              "      <th>28x28</th>\n",
              "    </tr>\n",
              "  </thead>\n",
              "  <tbody>\n",
              "    <tr>\n",
              "      <th>0</th>\n",
              "      <td>1</td>\n",
              "      <td>176</td>\n",
              "      <td>124</td>\n",
              "      <td>170</td>\n",
              "      <td>161</td>\n",
              "      <td>144</td>\n",
              "      <td>177</td>\n",
              "      <td>199</td>\n",
              "      <td>179</td>\n",
              "      <td>123</td>\n",
              "      <td>137</td>\n",
              "      <td>183</td>\n",
              "      <td>124</td>\n",
              "      <td>143</td>\n",
              "      <td>142</td>\n",
              "      <td>168</td>\n",
              "      <td>182</td>\n",
              "      <td>163</td>\n",
              "      <td>187</td>\n",
              "      <td>115</td>\n",
              "      <td>106</td>\n",
              "      <td>166</td>\n",
              "      <td>143</td>\n",
              "      <td>144</td>\n",
              "      <td>156</td>\n",
              "      <td>107</td>\n",
              "      <td>138</td>\n",
              "      <td>190</td>\n",
              "      <td>192</td>\n",
              "      <td>121</td>\n",
              "      <td>148</td>\n",
              "      <td>196</td>\n",
              "      <td>115</td>\n",
              "      <td>128</td>\n",
              "      <td>191</td>\n",
              "      <td>105</td>\n",
              "      <td>128</td>\n",
              "      <td>120</td>\n",
              "      <td>181</td>\n",
              "      <td>106</td>\n",
              "      <td>...</td>\n",
              "      <td>194</td>\n",
              "      <td>111</td>\n",
              "      <td>179</td>\n",
              "      <td>200</td>\n",
              "      <td>129</td>\n",
              "      <td>160</td>\n",
              "      <td>194</td>\n",
              "      <td>199</td>\n",
              "      <td>159</td>\n",
              "      <td>175</td>\n",
              "      <td>135</td>\n",
              "      <td>148</td>\n",
              "      <td>173</td>\n",
              "      <td>172</td>\n",
              "      <td>130</td>\n",
              "      <td>152</td>\n",
              "      <td>171</td>\n",
              "      <td>148</td>\n",
              "      <td>189</td>\n",
              "      <td>184</td>\n",
              "      <td>167</td>\n",
              "      <td>150</td>\n",
              "      <td>139</td>\n",
              "      <td>136</td>\n",
              "      <td>100</td>\n",
              "      <td>196</td>\n",
              "      <td>125</td>\n",
              "      <td>113</td>\n",
              "      <td>121</td>\n",
              "      <td>123</td>\n",
              "      <td>129</td>\n",
              "      <td>162</td>\n",
              "      <td>162</td>\n",
              "      <td>157</td>\n",
              "      <td>103</td>\n",
              "      <td>129</td>\n",
              "      <td>104</td>\n",
              "      <td>197</td>\n",
              "      <td>117</td>\n",
              "      <td>164</td>\n",
              "    </tr>\n",
              "    <tr>\n",
              "      <th>1</th>\n",
              "      <td>1</td>\n",
              "      <td>121</td>\n",
              "      <td>103</td>\n",
              "      <td>138</td>\n",
              "      <td>165</td>\n",
              "      <td>128</td>\n",
              "      <td>108</td>\n",
              "      <td>133</td>\n",
              "      <td>148</td>\n",
              "      <td>120</td>\n",
              "      <td>120</td>\n",
              "      <td>131</td>\n",
              "      <td>191</td>\n",
              "      <td>192</td>\n",
              "      <td>197</td>\n",
              "      <td>195</td>\n",
              "      <td>162</td>\n",
              "      <td>200</td>\n",
              "      <td>159</td>\n",
              "      <td>195</td>\n",
              "      <td>100</td>\n",
              "      <td>120</td>\n",
              "      <td>194</td>\n",
              "      <td>127</td>\n",
              "      <td>167</td>\n",
              "      <td>199</td>\n",
              "      <td>107</td>\n",
              "      <td>160</td>\n",
              "      <td>166</td>\n",
              "      <td>194</td>\n",
              "      <td>130</td>\n",
              "      <td>180</td>\n",
              "      <td>200</td>\n",
              "      <td>180</td>\n",
              "      <td>110</td>\n",
              "      <td>193</td>\n",
              "      <td>141</td>\n",
              "      <td>179</td>\n",
              "      <td>114</td>\n",
              "      <td>165</td>\n",
              "      <td>...</td>\n",
              "      <td>116</td>\n",
              "      <td>124</td>\n",
              "      <td>108</td>\n",
              "      <td>198</td>\n",
              "      <td>108</td>\n",
              "      <td>133</td>\n",
              "      <td>163</td>\n",
              "      <td>184</td>\n",
              "      <td>188</td>\n",
              "      <td>138</td>\n",
              "      <td>188</td>\n",
              "      <td>183</td>\n",
              "      <td>150</td>\n",
              "      <td>195</td>\n",
              "      <td>126</td>\n",
              "      <td>135</td>\n",
              "      <td>119</td>\n",
              "      <td>105</td>\n",
              "      <td>172</td>\n",
              "      <td>132</td>\n",
              "      <td>154</td>\n",
              "      <td>136</td>\n",
              "      <td>153</td>\n",
              "      <td>165</td>\n",
              "      <td>182</td>\n",
              "      <td>150</td>\n",
              "      <td>129</td>\n",
              "      <td>138</td>\n",
              "      <td>135</td>\n",
              "      <td>151</td>\n",
              "      <td>195</td>\n",
              "      <td>190</td>\n",
              "      <td>107</td>\n",
              "      <td>194</td>\n",
              "      <td>114</td>\n",
              "      <td>170</td>\n",
              "      <td>150</td>\n",
              "      <td>121</td>\n",
              "      <td>192</td>\n",
              "      <td>107</td>\n",
              "    </tr>\n",
              "    <tr>\n",
              "      <th>2</th>\n",
              "      <td>1</td>\n",
              "      <td>116</td>\n",
              "      <td>182</td>\n",
              "      <td>187</td>\n",
              "      <td>113</td>\n",
              "      <td>142</td>\n",
              "      <td>191</td>\n",
              "      <td>130</td>\n",
              "      <td>191</td>\n",
              "      <td>156</td>\n",
              "      <td>178</td>\n",
              "      <td>182</td>\n",
              "      <td>175</td>\n",
              "      <td>166</td>\n",
              "      <td>156</td>\n",
              "      <td>186</td>\n",
              "      <td>122</td>\n",
              "      <td>132</td>\n",
              "      <td>178</td>\n",
              "      <td>104</td>\n",
              "      <td>122</td>\n",
              "      <td>159</td>\n",
              "      <td>167</td>\n",
              "      <td>143</td>\n",
              "      <td>108</td>\n",
              "      <td>145</td>\n",
              "      <td>130</td>\n",
              "      <td>159</td>\n",
              "      <td>153</td>\n",
              "      <td>146</td>\n",
              "      <td>196</td>\n",
              "      <td>114</td>\n",
              "      <td>133</td>\n",
              "      <td>184</td>\n",
              "      <td>167</td>\n",
              "      <td>115</td>\n",
              "      <td>128</td>\n",
              "      <td>199</td>\n",
              "      <td>122</td>\n",
              "      <td>187</td>\n",
              "      <td>...</td>\n",
              "      <td>184</td>\n",
              "      <td>173</td>\n",
              "      <td>146</td>\n",
              "      <td>152</td>\n",
              "      <td>103</td>\n",
              "      <td>195</td>\n",
              "      <td>146</td>\n",
              "      <td>146</td>\n",
              "      <td>105</td>\n",
              "      <td>102</td>\n",
              "      <td>177</td>\n",
              "      <td>126</td>\n",
              "      <td>108</td>\n",
              "      <td>194</td>\n",
              "      <td>103</td>\n",
              "      <td>144</td>\n",
              "      <td>126</td>\n",
              "      <td>135</td>\n",
              "      <td>134</td>\n",
              "      <td>175</td>\n",
              "      <td>136</td>\n",
              "      <td>106</td>\n",
              "      <td>121</td>\n",
              "      <td>196</td>\n",
              "      <td>118</td>\n",
              "      <td>144</td>\n",
              "      <td>134</td>\n",
              "      <td>181</td>\n",
              "      <td>176</td>\n",
              "      <td>136</td>\n",
              "      <td>102</td>\n",
              "      <td>158</td>\n",
              "      <td>119</td>\n",
              "      <td>111</td>\n",
              "      <td>161</td>\n",
              "      <td>126</td>\n",
              "      <td>127</td>\n",
              "      <td>173</td>\n",
              "      <td>161</td>\n",
              "      <td>118</td>\n",
              "    </tr>\n",
              "    <tr>\n",
              "      <th>3</th>\n",
              "      <td>1</td>\n",
              "      <td>162</td>\n",
              "      <td>200</td>\n",
              "      <td>102</td>\n",
              "      <td>186</td>\n",
              "      <td>177</td>\n",
              "      <td>171</td>\n",
              "      <td>200</td>\n",
              "      <td>150</td>\n",
              "      <td>134</td>\n",
              "      <td>182</td>\n",
              "      <td>122</td>\n",
              "      <td>133</td>\n",
              "      <td>195</td>\n",
              "      <td>193</td>\n",
              "      <td>111</td>\n",
              "      <td>183</td>\n",
              "      <td>195</td>\n",
              "      <td>100</td>\n",
              "      <td>185</td>\n",
              "      <td>145</td>\n",
              "      <td>110</td>\n",
              "      <td>168</td>\n",
              "      <td>170</td>\n",
              "      <td>109</td>\n",
              "      <td>187</td>\n",
              "      <td>150</td>\n",
              "      <td>153</td>\n",
              "      <td>127</td>\n",
              "      <td>156</td>\n",
              "      <td>158</td>\n",
              "      <td>131</td>\n",
              "      <td>118</td>\n",
              "      <td>104</td>\n",
              "      <td>120</td>\n",
              "      <td>184</td>\n",
              "      <td>172</td>\n",
              "      <td>121</td>\n",
              "      <td>151</td>\n",
              "      <td>152</td>\n",
              "      <td>...</td>\n",
              "      <td>117</td>\n",
              "      <td>135</td>\n",
              "      <td>161</td>\n",
              "      <td>197</td>\n",
              "      <td>115</td>\n",
              "      <td>176</td>\n",
              "      <td>124</td>\n",
              "      <td>191</td>\n",
              "      <td>124</td>\n",
              "      <td>112</td>\n",
              "      <td>171</td>\n",
              "      <td>181</td>\n",
              "      <td>115</td>\n",
              "      <td>186</td>\n",
              "      <td>108</td>\n",
              "      <td>175</td>\n",
              "      <td>134</td>\n",
              "      <td>130</td>\n",
              "      <td>107</td>\n",
              "      <td>192</td>\n",
              "      <td>158</td>\n",
              "      <td>154</td>\n",
              "      <td>158</td>\n",
              "      <td>194</td>\n",
              "      <td>134</td>\n",
              "      <td>173</td>\n",
              "      <td>191</td>\n",
              "      <td>145</td>\n",
              "      <td>117</td>\n",
              "      <td>182</td>\n",
              "      <td>164</td>\n",
              "      <td>196</td>\n",
              "      <td>127</td>\n",
              "      <td>195</td>\n",
              "      <td>157</td>\n",
              "      <td>168</td>\n",
              "      <td>122</td>\n",
              "      <td>113</td>\n",
              "      <td>192</td>\n",
              "      <td>149</td>\n",
              "    </tr>\n",
              "    <tr>\n",
              "      <th>4</th>\n",
              "      <td>1</td>\n",
              "      <td>133</td>\n",
              "      <td>152</td>\n",
              "      <td>198</td>\n",
              "      <td>168</td>\n",
              "      <td>154</td>\n",
              "      <td>126</td>\n",
              "      <td>162</td>\n",
              "      <td>145</td>\n",
              "      <td>133</td>\n",
              "      <td>154</td>\n",
              "      <td>185</td>\n",
              "      <td>181</td>\n",
              "      <td>140</td>\n",
              "      <td>110</td>\n",
              "      <td>195</td>\n",
              "      <td>180</td>\n",
              "      <td>124</td>\n",
              "      <td>114</td>\n",
              "      <td>105</td>\n",
              "      <td>195</td>\n",
              "      <td>179</td>\n",
              "      <td>163</td>\n",
              "      <td>176</td>\n",
              "      <td>165</td>\n",
              "      <td>140</td>\n",
              "      <td>127</td>\n",
              "      <td>110</td>\n",
              "      <td>163</td>\n",
              "      <td>104</td>\n",
              "      <td>175</td>\n",
              "      <td>124</td>\n",
              "      <td>170</td>\n",
              "      <td>196</td>\n",
              "      <td>109</td>\n",
              "      <td>175</td>\n",
              "      <td>168</td>\n",
              "      <td>112</td>\n",
              "      <td>182</td>\n",
              "      <td>134</td>\n",
              "      <td>...</td>\n",
              "      <td>157</td>\n",
              "      <td>108</td>\n",
              "      <td>135</td>\n",
              "      <td>134</td>\n",
              "      <td>139</td>\n",
              "      <td>135</td>\n",
              "      <td>137</td>\n",
              "      <td>114</td>\n",
              "      <td>190</td>\n",
              "      <td>100</td>\n",
              "      <td>181</td>\n",
              "      <td>106</td>\n",
              "      <td>163</td>\n",
              "      <td>118</td>\n",
              "      <td>123</td>\n",
              "      <td>170</td>\n",
              "      <td>152</td>\n",
              "      <td>134</td>\n",
              "      <td>184</td>\n",
              "      <td>128</td>\n",
              "      <td>200</td>\n",
              "      <td>107</td>\n",
              "      <td>155</td>\n",
              "      <td>145</td>\n",
              "      <td>178</td>\n",
              "      <td>170</td>\n",
              "      <td>158</td>\n",
              "      <td>137</td>\n",
              "      <td>139</td>\n",
              "      <td>120</td>\n",
              "      <td>122</td>\n",
              "      <td>133</td>\n",
              "      <td>101</td>\n",
              "      <td>143</td>\n",
              "      <td>110</td>\n",
              "      <td>188</td>\n",
              "      <td>194</td>\n",
              "      <td>140</td>\n",
              "      <td>144</td>\n",
              "      <td>164</td>\n",
              "    </tr>\n",
              "  </tbody>\n",
              "</table>\n",
              "<p>5 rows × 785 columns</p>\n",
              "</div>"
            ],
            "text/plain": [
              "   label  1x1  1x2  1x3  1x4  1x5  ...  28x23  28x24  28x25  28x26  28x27  28x28\n",
              "0      1  176  124  170  161  144  ...    103    129    104    197    117    164\n",
              "1      1  121  103  138  165  128  ...    114    170    150    121    192    107\n",
              "2      1  116  182  187  113  142  ...    161    126    127    173    161    118\n",
              "3      1  162  200  102  186  177  ...    157    168    122    113    192    149\n",
              "4      1  133  152  198  168  154  ...    110    188    194    140    144    164\n",
              "\n",
              "[5 rows x 785 columns]"
            ]
          },
          "metadata": {
            "tags": []
          },
          "execution_count": 12
        }
      ]
    },
    {
      "cell_type": "code",
      "metadata": {
        "colab": {
          "base_uri": "https://localhost:8080/"
        },
        "id": "Qm4cZaX5PVIT",
        "outputId": "9de194de-0141-4223-fa73-d25d46da8427"
      },
      "source": [
        "anom['label'] = 1\r\n",
        "clean['label'] = 0"
      ],
      "execution_count": null,
      "outputs": [
        {
          "output_type": "stream",
          "text": [
            "/usr/local/lib/python3.6/dist-packages/ipykernel_launcher.py:1: SettingWithCopyWarning: \n",
            "A value is trying to be set on a copy of a slice from a DataFrame.\n",
            "Try using .loc[row_indexer,col_indexer] = value instead\n",
            "\n",
            "See the caveats in the documentation: https://pandas.pydata.org/pandas-docs/stable/user_guide/indexing.html#returning-a-view-versus-a-copy\n",
            "  \"\"\"Entry point for launching an IPython kernel.\n",
            "/usr/local/lib/python3.6/dist-packages/ipykernel_launcher.py:2: SettingWithCopyWarning: \n",
            "A value is trying to be set on a copy of a slice from a DataFrame.\n",
            "Try using .loc[row_indexer,col_indexer] = value instead\n",
            "\n",
            "See the caveats in the documentation: https://pandas.pydata.org/pandas-docs/stable/user_guide/indexing.html#returning-a-view-versus-a-copy\n",
            "  \n"
          ],
          "name": "stderr"
        }
      ]
    },
    {
      "cell_type": "code",
      "metadata": {
        "id": "ounYNB2xQAsp"
      },
      "source": [
        "an_test = pd.concat([anom, clean])  # join\r\n",
        "an_test.sample(frac=1)              # shuffle\r\n",
        "an_test.to_csv('anom.csv')          # save"
      ],
      "execution_count": null,
      "outputs": []
    },
    {
      "cell_type": "code",
      "metadata": {
        "id": "2BNd_X6xVJ2k"
      },
      "source": [
        "import torch.nn as nn\r\n",
        "class AE(nn.Module):\r\n",
        "    def __init__(self):\r\n",
        "        super(AE, self).__init__()\r\n",
        "        self.enc = nn.Sequential(\r\n",
        "            nn.Linear(784, 512),\r\n",
        "            nn.ReLU(),\r\n",
        "            nn.Linear(512, 256),\r\n",
        "            nn.ReLU(),\r\n",
        "            nn.Linear(256, 128),\r\n",
        "            nn.ReLU(),\r\n",
        "            nn.Linear(128, 64),\r\n",
        "            nn.ReLU(),\r\n",
        "            nn.Linear(64, 32),\r\n",
        "            nn.ReLU(),\r\n",
        "            nn.Linear(32, 16),\r\n",
        "            nn.ReLU()\r\n",
        "        )\r\n",
        "        self.dec = nn.Sequential(\r\n",
        "            nn.Linear(16, 32),\r\n",
        "            nn.ReLU(),\r\n",
        "            nn.Linear(32, 64),\r\n",
        "            nn.ReLU(),\r\n",
        "            nn.Linear(64, 128),\r\n",
        "            nn.ReLU(),\r\n",
        "            nn.Linear(128, 256),\r\n",
        "            nn.ReLU(),\r\n",
        "            nn.Linear(256, 512),\r\n",
        "            nn.ReLU(),\r\n",
        "            nn.Linear(512, 784),\r\n",
        "            nn.ReLU()\r\n",
        "        )\r\n",
        "    def forward(self, x):\r\n",
        "        encode = self.enc(x)\r\n",
        "        decode = self.dec(encode)\r\n",
        "        return decode"
      ],
      "execution_count": null,
      "outputs": []
    },
    {
      "cell_type": "code",
      "metadata": {
        "id": "eEc9jIZiVN0y"
      },
      "source": [
        "import torch\r\n",
        "import time\r\n",
        "import random\r\n",
        "import matplotlib.pyplot as plt\r\n",
        "import torch.nn as nn\r\n",
        "import numpy as np\r\n",
        "import pandas as pd\r\n",
        "import seaborn as sns\r\n",
        "from collections import defaultdict\r\n",
        "from datetime import timedelta"
      ],
      "execution_count": null,
      "outputs": []
    },
    {
      "cell_type": "code",
      "metadata": {
        "id": "BR6UDN8mVWLz"
      },
      "source": [
        "batch_size = 32\r\n",
        "lr = 1e-2         # learning rate\r\n",
        "w_d = 1e-5        # weight decay\r\n",
        "momentum = 0.9   \r\n",
        "epochs = 15"
      ],
      "execution_count": null,
      "outputs": []
    },
    {
      "cell_type": "code",
      "metadata": {
        "id": "DmXDFwZxVcij"
      },
      "source": [
        "class Loader(torch.utils.data.Dataset):\r\n",
        "    def __init__(self):\r\n",
        "        super(Loader, self).__init__()\r\n",
        "        self.dataset = ''\r\n",
        "    \r\n",
        "    def __len__(self):\r\n",
        "        return len(self.dataset)\r\n",
        "    \r\n",
        "    def __getitem__(self, idx):\r\n",
        "        row = self.dataset.iloc[idx]\r\n",
        "        row = row.drop(labels={'label'})\r\n",
        "        data = torch.from_numpy(np.array(row)/255).float()\r\n",
        "        return data\r\n",
        "    \r\n",
        "class Train_Loader(Loader):\r\n",
        "    def __init__(self):\r\n",
        "        super(Train_Loader, self).__init__()\r\n",
        "        self.dataset = pd.read_csv(\r\n",
        "                       'mnist_train.csv',\r\n",
        "                       index_col=False\r\n",
        "                       )"
      ],
      "execution_count": null,
      "outputs": []
    },
    {
      "cell_type": "code",
      "metadata": {
        "id": "NzVevcyjVmJC"
      },
      "source": [
        "train_set = Train_Loader()\r\n",
        "train_ = torch.utils.data.DataLoader(\r\n",
        "            train_set,\r\n",
        "            batch_size=batch_size,\r\n",
        "            shuffle=True,\r\n",
        "            num_workers=20,\r\n",
        "            pin_memory=True,\r\n",
        "            drop_last=True\r\n",
        "        )"
      ],
      "execution_count": null,
      "outputs": []
    },
    {
      "cell_type": "code",
      "metadata": {
        "id": "O9Fm3ymTWMqN"
      },
      "source": [
        "metrics = defaultdict(list)\r\n",
        "device = 'cuda' if torch.cuda.is_available() else 'cpu'\r\n",
        "model = AE()\r\n",
        "model.to(device)\r\n",
        "criterion = nn.MSELoss(reduction='mean')\r\n",
        "optimizer = torch.optim.SGD(model.parameters(), lr=lr, weight_decay=w_d)"
      ],
      "execution_count": null,
      "outputs": []
    },
    {
      "cell_type": "code",
      "metadata": {
        "colab": {
          "base_uri": "https://localhost:8080/"
        },
        "id": "8YdMJx6DWPHx",
        "outputId": "8efb5d8c-176f-4b1a-92f3-82f41414ad80"
      },
      "source": [
        "model.train()\r\n",
        "start = time.time()\r\n",
        "for epoch in range(epochs):\r\n",
        "    ep_start = time.time()\r\n",
        "    running_loss = 0.0\r\n",
        "    for bx, (data) in enumerate(train_):\r\n",
        "        sample = model(data.to(device))\r\n",
        "        loss = criterion(data.to(device), sample)\r\n",
        "        optimizer.zero_grad()\r\n",
        "        loss.backward()\r\n",
        "        optimizer.step()\r\n",
        "        running_loss += loss.item()\r\n",
        "    epoch_loss = running_loss/len(train_set)\r\n",
        "    metrics['train_loss'].append(epoch_loss)\r\n",
        "    ep_end = time.time()\r\n",
        "    print('-----------------------------------------------')\r\n",
        "    print('[EPOCH] {}/{}\\n[LOSS] {}'.format(epoch+1,epochs,epoch_loss))\r\n",
        "    print('Epoch Complete in {}'.format(timedelta(seconds=ep_end-ep_start)))\r\n",
        "end = time.time()\r\n",
        "print('-----------------------------------------------')\r\n",
        "print('[System Complete: {}]'.format(timedelta(seconds=end-start)))\r\n"
      ],
      "execution_count": null,
      "outputs": [
        {
          "output_type": "stream",
          "text": [
            "-----------------------------------------------\n",
            "[EPOCH] 1/15\n",
            "[LOSS] 0.0033416229592015344\n",
            "Epoch Complete in 0:00:54.402771\n",
            "-----------------------------------------------\n",
            "[EPOCH] 2/15\n",
            "[LOSS] 0.0032201549441864094\n",
            "Epoch Complete in 0:00:53.572782\n",
            "-----------------------------------------------\n",
            "[EPOCH] 3/15\n",
            "[LOSS] 0.0030881537494560083\n",
            "Epoch Complete in 0:00:53.782264\n",
            "-----------------------------------------------\n",
            "[EPOCH] 4/15\n",
            "[LOSS] 0.0029453418493270876\n",
            "Epoch Complete in 0:00:53.398341\n",
            "-----------------------------------------------\n",
            "[EPOCH] 5/15\n",
            "[LOSS] 0.0028070713358620803\n",
            "Epoch Complete in 0:00:53.676675\n",
            "-----------------------------------------------\n",
            "[EPOCH] 6/15\n",
            "[LOSS] 0.0026962923267235357\n",
            "Epoch Complete in 0:00:53.291606\n",
            "-----------------------------------------------\n",
            "[EPOCH] 7/15\n",
            "[LOSS] 0.002629264725248019\n",
            "Epoch Complete in 0:00:52.874131\n",
            "-----------------------------------------------\n",
            "[EPOCH] 8/15\n",
            "[LOSS] 0.0025977499949435393\n",
            "Epoch Complete in 0:00:54.070278\n",
            "-----------------------------------------------\n",
            "[EPOCH] 9/15\n",
            "[LOSS] 0.002583750753104687\n",
            "Epoch Complete in 0:00:53.699719\n",
            "-----------------------------------------------\n",
            "[EPOCH] 10/15\n",
            "[LOSS] 0.002578077306722601\n",
            "Epoch Complete in 0:00:53.878810\n",
            "-----------------------------------------------\n",
            "[EPOCH] 11/15\n",
            "[LOSS] 0.0025757634033759433\n",
            "Epoch Complete in 0:00:54.592759\n",
            "-----------------------------------------------\n",
            "[EPOCH] 12/15\n",
            "[LOSS] 0.0025748010353495677\n",
            "Epoch Complete in 0:00:54.205658\n",
            "-----------------------------------------------\n",
            "[EPOCH] 13/15\n",
            "[LOSS] 0.002574396022905906\n",
            "Epoch Complete in 0:00:54.022348\n",
            "-----------------------------------------------\n",
            "[EPOCH] 14/15\n",
            "[LOSS] 0.002574224366620183\n",
            "Epoch Complete in 0:00:53.727264\n",
            "-----------------------------------------------\n",
            "[EPOCH] 15/15\n",
            "[LOSS] 0.0025741511400789023\n",
            "Epoch Complete in 0:00:53.248796\n",
            "-----------------------------------------------\n",
            "[System Complete: 0:13:26.451645]\n"
          ],
          "name": "stdout"
        }
      ]
    },
    {
      "cell_type": "code",
      "metadata": {
        "colab": {
          "base_uri": "https://localhost:8080/",
          "height": 624
        },
        "id": "8uSeW1iKakZK",
        "outputId": "1c10e26c-1a35-4623-e96c-84756178c52e"
      },
      "source": [
        "_, ax = plt.subplots(1,1,figsize=(15,10))\r\n",
        "ax.set_title('Loss')\r\n",
        "ax.plot(metrics['train_loss'])"
      ],
      "execution_count": null,
      "outputs": [
        {
          "output_type": "execute_result",
          "data": {
            "text/plain": [
              "[<matplotlib.lines.Line2D at 0x7faaf4913160>]"
            ]
          },
          "metadata": {
            "tags": []
          },
          "execution_count": 24
        },
        {
          "output_type": "display_data",
          "data": {
            "image/png": "[encoded data removed]",
            "text/plain": [
              "<Figure size 1080x720 with 1 Axes>"
            ]
          },
          "metadata": {
            "tags": [],
            "needs_background": "light"
          }
        }
      ]
    },
    {
      "cell_type": "code",
      "metadata": {
        "id": "4NKs8gCnanbF"
      },
      "source": [
        "model.eval()\r\n",
        "loss_dist = []\r\n",
        "anom = pd.read_csv('anom.csv', index_col=[0])\r\n",
        "#for bx, data in enumerate(test_):\r\n",
        "for i in range(len(anom)):\r\n",
        "    data = torch.from_numpy(np.array(anom.iloc[i][1:])/255).float()\r\n",
        "    sample = model(data.to(device))\r\n",
        "    loss = criterion(data.to(device), sample)\r\n",
        "    loss_dist.append(loss.item())"
      ],
      "execution_count": null,
      "outputs": []
    },
    {
      "cell_type": "code",
      "metadata": {
        "colab": {
          "base_uri": "https://localhost:8080/",
          "height": 282
        },
        "id": "bHIZduUwa3Wy",
        "outputId": "79fd0acc-ccf0-4cc6-d324-9b0cdfe4e718"
      },
      "source": [
        "loss_sc = []\r\n",
        "for i in loss_dist:\r\n",
        "    loss_sc.append((i,i))\r\n",
        "plt.scatter(*zip(*loss_sc))\r\n",
        "plt.axvline(0.3, 0.0, 1)"
      ],
      "execution_count": null,
      "outputs": [
        {
          "output_type": "execute_result",
          "data": {
            "text/plain": [
              "<matplotlib.lines.Line2D at 0x7faaf4a73a20>"
            ]
          },
          "metadata": {
            "tags": []
          },
          "execution_count": 27
        },
        {
          "output_type": "display_data",
          "data": {
            "image/png": "[encoded data removed]",
            "text/plain": [
              "<Figure size 432x288 with 1 Axes>"
            ]
          },
          "metadata": {
            "tags": [],
            "needs_background": "light"
          }
        }
      ]
    },
    {
      "cell_type": "code",
      "metadata": {
        "colab": {
          "base_uri": "https://localhost:8080/",
          "height": 461
        },
        "id": "EQ_6sreGa8K-",
        "outputId": "0e60f450-748c-414a-d37b-0a2bec60db70"
      },
      "source": [
        "lower_threshold = 0.0\r\n",
        "upper_threshold = 0.3\r\n",
        "plt.figure(figsize=(12,6))\r\n",
        "plt.title('Loss Distribution')\r\n",
        "sns.distplot(loss_dist,bins=100,kde=True, color='blue')\r\n",
        "plt.axvline(upper_threshold, 0.0, 10, color='r')\r\n",
        "plt.axvline(lower_threshold, 0.0, 10, color='b')"
      ],
      "execution_count": null,
      "outputs": [
        {
          "output_type": "stream",
          "text": [
            "/usr/local/lib/python3.6/dist-packages/seaborn/distributions.py:2551: FutureWarning: `distplot` is a deprecated function and will be removed in a future version. Please adapt your code to use either `displot` (a figure-level function with similar flexibility) or `histplot` (an axes-level function for histograms).\n",
            "  warnings.warn(msg, FutureWarning)\n"
          ],
          "name": "stderr"
        },
        {
          "output_type": "execute_result",
          "data": {
            "text/plain": [
              "<matplotlib.lines.Line2D at 0x7faafef62d30>"
            ]
          },
          "metadata": {
            "tags": []
          },
          "execution_count": 28
        },
        {
          "output_type": "display_data",
          "data": {
            "image/png": "[encoded data removed]",
            "text/plain": [
              "<Figure size 864x432 with 1 Axes>"
            ]
          },
          "metadata": {
            "tags": [],
            "needs_background": "light"
          }
        }
      ]
    },
    {
      "cell_type": "code",
      "metadata": {
        "colab": {
          "base_uri": "https://localhost:8080/"
        },
        "id": "2wmKPorpbDIe",
        "outputId": "02ac79c6-5c20-40a4-b9ec-287adf62eac0"
      },
      "source": [
        "df = pd.read_csv('anom.csv', index_col=[0])\r\n",
        "ddf = pd.DataFrame(columns=df.columns)\r\n",
        "tp = 0\r\n",
        "fp = 0\r\n",
        "tn = 0\r\n",
        "fn = 0\r\n",
        "total_anom = 0\r\n",
        "for i in range(len(loss_dist)):\r\n",
        "    total_anom += df.iloc[i]['label']\r\n",
        "    if loss_dist[i] >= upper_threshold:\r\n",
        "        n_df = pd.DataFrame([df.iloc[i]])\r\n",
        "        n_df['loss'] = loss_dist[i]\r\n",
        "        ddf = pd.concat([df,n_df], sort = True)\r\n",
        "        if float(df.iloc[i]['label']) == 1.0:\r\n",
        "            tp += 1\r\n",
        "        else:\r\n",
        "            fp += 1\r\n",
        "    else:\r\n",
        "        if float(df.iloc[i]['label']) == 1.0:\r\n",
        "            fn += 1\r\n",
        "        else:\r\n",
        "            tn += 1\r\n",
        "print('[TP] {}\\t[FP] {}\\t[MISSED] {}'.format(tp, fp, total_anom-tp))\r\n",
        "print('[TN] {}\\t[FN] {}'.format(tn, fn))"
      ],
      "execution_count": null,
      "outputs": [
        {
          "output_type": "stream",
          "text": [
            "[TP] 1000\t[FP] 0\t[MISSED] 0\n",
            "[TN] 9000\t[FN] 0\n"
          ],
          "name": "stdout"
        }
      ]
    },
    {
      "cell_type": "code",
      "metadata": {
        "id": "AAPucxhEblX7",
        "colab": {
          "base_uri": "https://localhost:8080/",
          "height": 286
        },
        "outputId": "834a0d2d-208c-44a3-b946-133c6d58f31c"
      },
      "source": [
        "conf = [[tn,fp],[fn,tp]]\r\n",
        "plt.figure()\r\n",
        "sns.heatmap(conf,annot=True,annot_kws={\"size\": 16},fmt='g')"
      ],
      "execution_count": null,
      "outputs": [
        {
          "output_type": "execute_result",
          "data": {
            "text/plain": [
              "<matplotlib.axes._subplots.AxesSubplot at 0x7faaf4c5da20>"
            ]
          },
          "metadata": {
            "tags": []
          },
          "execution_count": 31
        },
        {
          "output_type": "display_data",
          "data": {
            "image/png": "[encoded data removed]",
            "text/plain": [
              "<Figure size 432x288 with 2 Axes>"
            ]
          },
          "metadata": {
            "tags": [],
            "needs_background": "light"
          }
        }
      ]
    }
  ]
}