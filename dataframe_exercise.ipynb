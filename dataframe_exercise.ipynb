{
  "nbformat": 4,
  "nbformat_minor": 0,
  "metadata": {
    "colab": {
      "name": "dataframe exercise.ipynb",
      "provenance": [],
      "authorship_tag": "ABX9TyO6OXSuZSDRbcN79kk/YRoh",
      "include_colab_link": true
    },
    "kernelspec": {
      "name": "python3",
      "display_name": "Python 3"
    }
  },
  "cells": [
    {
      "cell_type": "markdown",
      "metadata": {
        "id": "view-in-github",
        "colab_type": "text"
      },
      "source": [
        "<a href=\"https://colab.research.google.com/github/NewAnik/DataScience/blob/master/dataframe_exercise.ipynb\" target=\"_parent\"><img src=\"https://colab.research.google.com/assets/colab-badge.svg\" alt=\"Open In Colab\"/></a>"
      ]
    },
    {
      "cell_type": "code",
      "metadata": {
        "id": "MbVIqAv5f5x1",
        "colab": {
          "base_uri": "https://localhost:8080/"
        },
        "outputId": "8dccbd97-157a-47af-d969-28ee03690430"
      },
      "source": [
        "!pip install pyspark"
      ],
      "execution_count": null,
      "outputs": [
        {
          "output_type": "stream",
          "text": [
            "Collecting pyspark\n",
            "\u001b[?25l  Downloading https://files.pythonhosted.org/packages/f0/26/198fc8c0b98580f617cb03cb298c6056587b8f0447e20fa40c5b634ced77/pyspark-3.0.1.tar.gz (204.2MB)\n",
            "\u001b[K     |████████████████████████████████| 204.2MB 69kB/s \n",
            "\u001b[?25hCollecting py4j==0.10.9\n",
            "\u001b[?25l  Downloading https://files.pythonhosted.org/packages/9e/b6/6a4fb90cd235dc8e265a6a2067f2a2c99f0d91787f06aca4bcf7c23f3f80/py4j-0.10.9-py2.py3-none-any.whl (198kB)\n",
            "\u001b[K     |████████████████████████████████| 204kB 40.7MB/s \n",
            "\u001b[?25hBuilding wheels for collected packages: pyspark\n",
            "  Building wheel for pyspark (setup.py) ... \u001b[?25l\u001b[?25hdone\n",
            "  Created wheel for pyspark: filename=pyspark-3.0.1-py2.py3-none-any.whl size=204612243 sha256=0550047a7751003a05990a6076c98361ff3c6b1bf8844341645d1a94ea88bb76\n",
            "  Stored in directory: /root/.cache/pip/wheels/5e/bd/07/031766ca628adec8435bb40f0bd83bb676ce65ff4007f8e73f\n",
            "Successfully built pyspark\n",
            "Installing collected packages: py4j, pyspark\n",
            "Successfully installed py4j-0.10.9 pyspark-3.0.1\n"
          ],
          "name": "stdout"
        }
      ]
    },
    {
      "cell_type": "code",
      "metadata": {
        "id": "NGLyMJIo9HVu"
      },
      "source": [
        "from pyspark.sql import SparkSession"
      ],
      "execution_count": null,
      "outputs": []
    },
    {
      "cell_type": "code",
      "metadata": {
        "id": "jElD9Rhb9L9h"
      },
      "source": [
        "spark = SparkSession.builder.appName('sol').getOrCreate()"
      ],
      "execution_count": null,
      "outputs": []
    },
    {
      "cell_type": "code",
      "metadata": {
        "id": "4BolSj_D90Nf"
      },
      "source": [
        "df = spark.read.csv('walmart_stock.csv', header=True, inferSchema=True)"
      ],
      "execution_count": null,
      "outputs": []
    },
    {
      "cell_type": "code",
      "metadata": {
        "id": "4mIjCq6j-Mcv",
        "colab": {
          "base_uri": "https://localhost:8080/"
        },
        "outputId": "c0070320-2f30-4e2e-e13e-ec04a47ca573"
      },
      "source": [
        "df.columns"
      ],
      "execution_count": null,
      "outputs": [
        {
          "output_type": "execute_result",
          "data": {
            "text/plain": [
              "['Date', 'Open', 'High', 'Low', 'Close', 'Volume', 'Adj Close']"
            ]
          },
          "metadata": {
            "tags": []
          },
          "execution_count": 5
        }
      ]
    },
    {
      "cell_type": "code",
      "metadata": {
        "id": "Nwbw75x0-QwN",
        "colab": {
          "base_uri": "https://localhost:8080/"
        },
        "outputId": "2816dc20-15b8-4f83-b0f4-4198cd1fab61"
      },
      "source": [
        "df.printSchema()"
      ],
      "execution_count": null,
      "outputs": [
        {
          "output_type": "stream",
          "text": [
            "root\n",
            " |-- Date: string (nullable = true)\n",
            " |-- Open: double (nullable = true)\n",
            " |-- High: double (nullable = true)\n",
            " |-- Low: double (nullable = true)\n",
            " |-- Close: double (nullable = true)\n",
            " |-- Volume: integer (nullable = true)\n",
            " |-- Adj Close: double (nullable = true)\n",
            "\n"
          ],
          "name": "stdout"
        }
      ]
    },
    {
      "cell_type": "code",
      "metadata": {
        "id": "9rZDKhbI-WR0",
        "colab": {
          "base_uri": "https://localhost:8080/"
        },
        "outputId": "84402e22-afcd-43ee-c922-3ebb54d5001e"
      },
      "source": [
        "df.head(5)"
      ],
      "execution_count": null,
      "outputs": [
        {
          "output_type": "execute_result",
          "data": {
            "text/plain": [
              "[Row(Date='2012-01-03', Open=59.970001, High=61.060001, Low=59.869999, Close=60.330002, Volume=12668800, Adj Close=52.619234999999996),\n",
              " Row(Date='2012-01-04', Open=60.209998999999996, High=60.349998, Low=59.470001, Close=59.709998999999996, Volume=9593300, Adj Close=52.078475),\n",
              " Row(Date='2012-01-05', Open=59.349998, High=59.619999, Low=58.369999, Close=59.419998, Volume=12768200, Adj Close=51.825539),\n",
              " Row(Date='2012-01-06', Open=59.419998, High=59.450001, Low=58.869999, Close=59.0, Volume=8069400, Adj Close=51.45922),\n",
              " Row(Date='2012-01-09', Open=59.029999, High=59.549999, Low=58.919998, Close=59.18, Volume=6679300, Adj Close=51.616215000000004)]"
            ]
          },
          "metadata": {
            "tags": []
          },
          "execution_count": 7
        }
      ]
    },
    {
      "cell_type": "code",
      "metadata": {
        "id": "jMpN-eUm-gFe",
        "colab": {
          "base_uri": "https://localhost:8080/"
        },
        "outputId": "703cf1c3-5360-4bc9-8d2e-35eda6929db1"
      },
      "source": [
        "df.describe().show()"
      ],
      "execution_count": null,
      "outputs": [
        {
          "output_type": "stream",
          "text": [
            "+-------+----------+------------------+-----------------+-----------------+-----------------+-----------------+-----------------+\n",
            "|summary|      Date|              Open|             High|              Low|            Close|           Volume|        Adj Close|\n",
            "+-------+----------+------------------+-----------------+-----------------+-----------------+-----------------+-----------------+\n",
            "|  count|      1258|              1258|             1258|             1258|             1258|             1258|             1258|\n",
            "|   mean|      null| 72.35785375357709|72.83938807631165| 71.9186009594594|72.38844998012726|8222093.481717011|67.23883848728146|\n",
            "| stddev|      null|  6.76809024470826|6.768186808159218|6.744075756255496|6.756859163732991|  4519780.8431556|6.722609449996857|\n",
            "|    min|2012-01-03|56.389998999999996|        57.060001|        56.299999|        56.419998|          2094900|        50.363689|\n",
            "|    max|2016-12-30|         90.800003|        90.970001|            89.25|        90.470001|         80898100|84.91421600000001|\n",
            "+-------+----------+------------------+-----------------+-----------------+-----------------+-----------------+-----------------+\n",
            "\n"
          ],
          "name": "stdout"
        }
      ]
    },
    {
      "cell_type": "code",
      "metadata": {
        "id": "6Wn44z6J-ugv"
      },
      "source": [
        "from pyspark.sql.functions import format_number"
      ],
      "execution_count": null,
      "outputs": []
    },
    {
      "cell_type": "code",
      "metadata": {
        "id": "H60AU9st_oVo"
      },
      "source": [
        "result = df.describe()"
      ],
      "execution_count": null,
      "outputs": []
    },
    {
      "cell_type": "code",
      "metadata": {
        "id": "pIMWCkS-_zRj",
        "colab": {
          "base_uri": "https://localhost:8080/"
        },
        "outputId": "10092d06-6741-44fe-a78f-581fff64ca84"
      },
      "source": [
        "result.select (result['summary'], format_number(result['Open'].cast('float'),2).alias('open')).show()"
      ],
      "execution_count": null,
      "outputs": [
        {
          "output_type": "stream",
          "text": [
            "+-------+--------+\n",
            "|summary|    open|\n",
            "+-------+--------+\n",
            "|  count|1,258.00|\n",
            "|   mean|   72.36|\n",
            "| stddev|    6.77|\n",
            "|    min|   56.39|\n",
            "|    max|   90.80|\n",
            "+-------+--------+\n",
            "\n"
          ],
          "name": "stdout"
        }
      ]
    },
    {
      "cell_type": "code",
      "metadata": {
        "id": "wvkoLbhcBKNI",
        "colab": {
          "base_uri": "https://localhost:8080/"
        },
        "outputId": "3beca585-917c-4bed-e937-6dba14c3590d"
      },
      "source": [
        "df2 = df.withColumn(\"HV Ratio\", df['High']/df['low'])\n",
        "df2.select('HV Ratio').show()"
      ],
      "execution_count": null,
      "outputs": [
        {
          "output_type": "stream",
          "text": [
            "+------------------+\n",
            "|          HV Ratio|\n",
            "+------------------+\n",
            "|1.0198764326019114|\n",
            "|1.0147973261342302|\n",
            "|1.0214151108688558|\n",
            "|1.0098522508892858|\n",
            "| 1.010692481693567|\n",
            "|1.0123770600203459|\n",
            "|1.0082994239786682|\n",
            "|1.0101009760908761|\n",
            "|  1.01016781935834|\n",
            "|1.0099126512096774|\n",
            "|1.0063704440445784|\n",
            "|1.0164016736401673|\n",
            "| 1.009559947570791|\n",
            "|1.0077673444973507|\n",
            "|1.0205761316872428|\n",
            "| 1.009338138772311|\n",
            "|1.0176073720585816|\n",
            "|1.0095804094882654|\n",
            "| 1.016072941709128|\n",
            "| 1.016341993517927|\n",
            "+------------------+\n",
            "only showing top 20 rows\n",
            "\n"
          ],
          "name": "stdout"
        }
      ]
    },
    {
      "cell_type": "code",
      "metadata": {
        "id": "A09RMoHKIrdM",
        "colab": {
          "base_uri": "https://localhost:8080/",
          "height": 35
        },
        "outputId": "1798705f-0b2d-4c12-97f2-752aade112c7"
      },
      "source": [
        "df.orderBy(df['high'].desc()).head(1)[0][0]"
      ],
      "execution_count": null,
      "outputs": [
        {
          "output_type": "execute_result",
          "data": {
            "application/vnd.google.colaboratory.intrinsic+json": {
              "type": "string"
            },
            "text/plain": [
              "'2015-01-13'"
            ]
          },
          "metadata": {
            "tags": []
          },
          "execution_count": 16
        }
      ]
    },
    {
      "cell_type": "code",
      "metadata": {
        "id": "MkyJxLijJvML",
        "colab": {
          "base_uri": "https://localhost:8080/"
        },
        "outputId": "85ebd18a-a906-45b4-9cb3-2053e0b114fd"
      },
      "source": [
        "from pyspark.sql.functions import mean\n",
        "df.select(mean(\"Close\").alias(\"Average of Close\")).show()"
      ],
      "execution_count": null,
      "outputs": [
        {
          "output_type": "stream",
          "text": [
            "+-----------------+\n",
            "| Average of Close|\n",
            "+-----------------+\n",
            "|72.38844998012726|\n",
            "+-----------------+\n",
            "\n"
          ],
          "name": "stdout"
        }
      ]
    },
    {
      "cell_type": "code",
      "metadata": {
        "id": "MAhjW9wSKWyb",
        "colab": {
          "base_uri": "https://localhost:8080/"
        },
        "outputId": "74c1cbbc-a190-4661-bf5d-e3d2e7e6ce20"
      },
      "source": [
        "from pyspark.sql.functions import max, min\n",
        "df.select(max(\"Volume\").alias(\"max of Volume\"), min(\"Volume\").alias(\"min of Volume\")).show()"
      ],
      "execution_count": null,
      "outputs": [
        {
          "output_type": "stream",
          "text": [
            "+-------------+-------------+\n",
            "|max of Volume|min of Volume|\n",
            "+-------------+-------------+\n",
            "|     80898100|      2094900|\n",
            "+-------------+-------------+\n",
            "\n"
          ],
          "name": "stdout"
        }
      ]
    },
    {
      "cell_type": "code",
      "metadata": {
        "id": "F20qaS7fLHpT",
        "colab": {
          "base_uri": "https://localhost:8080/"
        },
        "outputId": "94b4dee8-c0f9-4bef-dfac-31a5b4e78339"
      },
      "source": [
        "df.filter('close < 60').count()"
      ],
      "execution_count": null,
      "outputs": [
        {
          "output_type": "execute_result",
          "data": {
            "text/plain": [
              "81"
            ]
          },
          "metadata": {
            "tags": []
          },
          "execution_count": 22
        }
      ]
    },
    {
      "cell_type": "code",
      "metadata": {
        "id": "9XvfAdQeLXdp",
        "colab": {
          "base_uri": "https://localhost:8080/"
        },
        "outputId": "fc5d4793-9dd5-46c4-ea34-861a83d7af1c"
      },
      "source": [
        "df.filter(df['close'] < 60).count()"
      ],
      "execution_count": null,
      "outputs": [
        {
          "output_type": "execute_result",
          "data": {
            "text/plain": [
              "81"
            ]
          },
          "metadata": {
            "tags": []
          },
          "execution_count": 23
        }
      ]
    },
    {
      "cell_type": "code",
      "metadata": {
        "id": "hiu-CRWhL-Id",
        "colab": {
          "base_uri": "https://localhost:8080/"
        },
        "outputId": "62c0610a-73bf-4750-f758-997a3ac01a24"
      },
      "source": [
        "from pyspark.sql.functions import count\n",
        "result = df.filter(df['close'] < 60)\n",
        "result.select(count('close')).show()"
      ],
      "execution_count": null,
      "outputs": [
        {
          "output_type": "stream",
          "text": [
            "+------------+\n",
            "|count(close)|\n",
            "+------------+\n",
            "|          81|\n",
            "+------------+\n",
            "\n"
          ],
          "name": "stdout"
        }
      ]
    },
    {
      "cell_type": "code",
      "metadata": {
        "id": "fRG5Fob9PCz2",
        "colab": {
          "base_uri": "https://localhost:8080/"
        },
        "outputId": "25cce56c-79d9-4a32-ae73-d6a119acacc9"
      },
      "source": [
        "df.filter(df['high']>80).count()/ df.count()  * 100"
      ],
      "execution_count": null,
      "outputs": [
        {
          "output_type": "execute_result",
          "data": {
            "text/plain": [
              "9.141494435612083"
            ]
          },
          "metadata": {
            "tags": []
          },
          "execution_count": 27
        }
      ]
    },
    {
      "cell_type": "code",
      "metadata": {
        "id": "o-WBuQMyQDMm",
        "colab": {
          "base_uri": "https://localhost:8080/"
        },
        "outputId": "50c0da1d-1774-4cf0-8cf6-79dca0959e31"
      },
      "source": [
        "from pyspark.sql.functions import corr\n",
        "df.select(corr('high', 'volume')).show()"
      ],
      "execution_count": null,
      "outputs": [
        {
          "output_type": "stream",
          "text": [
            "+-------------------+\n",
            "| corr(high, volume)|\n",
            "+-------------------+\n",
            "|-0.3384326061737161|\n",
            "+-------------------+\n",
            "\n"
          ],
          "name": "stdout"
        }
      ]
    },
    {
      "cell_type": "code",
      "metadata": {
        "id": "cH4rkPskQecc"
      },
      "source": [
        "from pyspark.sql.functions import year\n",
        "yeardf = df.withColumn(\"Year\", year(df['date']))"
      ],
      "execution_count": null,
      "outputs": []
    },
    {
      "cell_type": "code",
      "metadata": {
        "id": "Xw-CMkoQQ9by"
      },
      "source": [
        "max_df = yeardf.groupby('Year').max()"
      ],
      "execution_count": null,
      "outputs": []
    },
    {
      "cell_type": "code",
      "metadata": {
        "id": "Ak9VL4i8RTuv",
        "colab": {
          "base_uri": "https://localhost:8080/"
        },
        "outputId": "51aaec52-c805-4449-80ff-ab30f03926df"
      },
      "source": [
        "max_df.select('Year', 'max(high)').sort(\"Year\").show()"
      ],
      "execution_count": null,
      "outputs": [
        {
          "output_type": "stream",
          "text": [
            "+----+---------+\n",
            "|Year|max(high)|\n",
            "+----+---------+\n",
            "|2012|77.599998|\n",
            "|2013|81.370003|\n",
            "|2014|88.089996|\n",
            "|2015|90.970001|\n",
            "|2016|75.190002|\n",
            "+----+---------+\n",
            "\n"
          ],
          "name": "stdout"
        }
      ]
    },
    {
      "cell_type": "code",
      "metadata": {
        "id": "6x3rjOdoSTfQ",
        "colab": {
          "base_uri": "https://localhost:8080/"
        },
        "outputId": "4986f3ec-388e-415d-90a4-3a96e9e4afaa"
      },
      "source": [
        "from pyspark.sql.functions import month\n",
        "monthdf = df.withColumn('Month', month('date'))\n",
        "monthavg = monthdf.select(['month', 'close']).groupby('month').mean()\n",
        "monthavg.select('Month', 'avg(close)').orderBy('Month').show()"
      ],
      "execution_count": null,
      "outputs": [
        {
          "output_type": "stream",
          "text": [
            "+-----+-----------------+\n",
            "|Month|       avg(close)|\n",
            "+-----+-----------------+\n",
            "|    1|71.44801958415842|\n",
            "|    2|  71.306804443299|\n",
            "|    3|71.77794377570092|\n",
            "|    4|72.97361900952382|\n",
            "|    5|72.30971688679247|\n",
            "|    6| 72.4953774245283|\n",
            "|    7|74.43971943925233|\n",
            "|    8|73.02981855454546|\n",
            "|    9|72.18411785294116|\n",
            "|   10|71.57854545454543|\n",
            "|   11| 72.1110893069307|\n",
            "|   12|72.84792478301885|\n",
            "+-----+-----------------+\n",
            "\n"
          ],
          "name": "stdout"
        }
      ]
    },
    {
      "cell_type": "code",
      "metadata": {
        "id": "l_RsYcILThJ0"
      },
      "source": [
        ""
      ],
      "execution_count": null,
      "outputs": []
    }
  ]
}