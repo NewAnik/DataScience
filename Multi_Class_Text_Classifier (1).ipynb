{
  "nbformat": 4,
  "nbformat_minor": 0,
  "metadata": {
    "colab": {
      "name": "Multi Class Text Classifier.ipynb",
      "provenance": [],
      "collapsed_sections": []
    },
    "kernelspec": {
      "name": "python3",
      "display_name": "Python 3"
    },
    "language_info": {
      "name": "python"
    }
  },
  "cells": [
    {
      "cell_type": "markdown",
      "metadata": {
        "id": "kPHYsKVOQhFr"
      },
      "source": [
        "Data Exploration"
      ]
    },
    {
      "cell_type": "code",
      "metadata": {
        "colab": {
          "base_uri": "https://localhost:8080/",
          "height": 204
        },
        "id": "xk8s5XJYtZpf",
        "outputId": "00fb5197-0580-49e7-e3ca-b9431dfd024b"
      },
      "source": [
        "import pandas as pd\n",
        "df = pd.read_csv('data.csv', encoding = \"ISO 8859-2\")\n",
        "df.head()"
      ],
      "execution_count": 1,
      "outputs": [
        {
          "output_type": "execute_result",
          "data": {
            "text/html": [
              "<div>\n",
              "<style scoped>\n",
              "    .dataframe tbody tr th:only-of-type {\n",
              "        vertical-align: middle;\n",
              "    }\n",
              "\n",
              "    .dataframe tbody tr th {\n",
              "        vertical-align: top;\n",
              "    }\n",
              "\n",
              "    .dataframe thead th {\n",
              "        text-align: right;\n",
              "    }\n",
              "</style>\n",
              "<table border=\"1\" class=\"dataframe\">\n",
              "  <thead>\n",
              "    <tr style=\"text-align: right;\">\n",
              "      <th></th>\n",
              "      <th>category</th>\n",
              "      <th>screenname</th>\n",
              "      <th>text</th>\n",
              "    </tr>\n",
              "  </thead>\n",
              "  <tbody>\n",
              "    <tr>\n",
              "      <th>0</th>\n",
              "      <td>Information</td>\n",
              "      <td>Barclays</td>\n",
              "      <td>Barclays CEO stresses the importance of regula...</td>\n",
              "    </tr>\n",
              "    <tr>\n",
              "      <th>1</th>\n",
              "      <td>Information</td>\n",
              "      <td>Barclays</td>\n",
              "      <td>Barclays announces result of Rights Issue http...</td>\n",
              "    </tr>\n",
              "    <tr>\n",
              "      <th>2</th>\n",
              "      <td>Information</td>\n",
              "      <td>Barclays</td>\n",
              "      <td>Barclays publishes its prospectus for its ĺŁ5....</td>\n",
              "    </tr>\n",
              "    <tr>\n",
              "      <th>3</th>\n",
              "      <td>Information</td>\n",
              "      <td>Barclays</td>\n",
              "      <td>Barclays Group Finance Director Chris Lucas is...</td>\n",
              "    </tr>\n",
              "    <tr>\n",
              "      <th>4</th>\n",
              "      <td>Information</td>\n",
              "      <td>Barclays</td>\n",
              "      <td>Barclays announces that Irene McDermott Brown ...</td>\n",
              "    </tr>\n",
              "  </tbody>\n",
              "</table>\n",
              "</div>"
            ],
            "text/plain": [
              "      category screenname                                               text\n",
              "0  Information   Barclays  Barclays CEO stresses the importance of regula...\n",
              "1  Information   Barclays  Barclays announces result of Rights Issue http...\n",
              "2  Information   Barclays  Barclays publishes its prospectus for its ĺŁ5....\n",
              "3  Information   Barclays  Barclays Group Finance Director Chris Lucas is...\n",
              "4  Information   Barclays  Barclays announces that Irene McDermott Brown ..."
            ]
          },
          "metadata": {},
          "execution_count": 1
        }
      ]
    },
    {
      "cell_type": "markdown",
      "metadata": {
        "id": "VSSj-uPhQlan"
      },
      "source": [
        "After cleaning up, this is the first five rows of the data we will be working on:"
      ]
    },
    {
      "cell_type": "code",
      "metadata": {
        "colab": {
          "base_uri": "https://localhost:8080/",
          "height": 204
        },
        "id": "u6gnqoQtuSai",
        "outputId": "a55ce68c-bdc1-4134-a105-c0ffde9f702c"
      },
      "source": [
        "from io import StringIO\n",
        "col = ['category', 'text']\n",
        "df = df[col]\n",
        "df = df[pd.notnull(df['text'])]\n",
        "\n",
        "df.columns = ['category', 'text']\n",
        "df['category_id'] = df['category'].factorize()[0]\n",
        "category_id_df = df[['category', 'category_id']].drop_duplicates().sort_values('category_id')\n",
        "category_to_id = dict(category_id_df.values)\n",
        "id_to_category = dict(category_id_df[['category_id', 'category']].values)\n",
        "df.head()\n"
      ],
      "execution_count": 2,
      "outputs": [
        {
          "output_type": "execute_result",
          "data": {
            "text/html": [
              "<div>\n",
              "<style scoped>\n",
              "    .dataframe tbody tr th:only-of-type {\n",
              "        vertical-align: middle;\n",
              "    }\n",
              "\n",
              "    .dataframe tbody tr th {\n",
              "        vertical-align: top;\n",
              "    }\n",
              "\n",
              "    .dataframe thead th {\n",
              "        text-align: right;\n",
              "    }\n",
              "</style>\n",
              "<table border=\"1\" class=\"dataframe\">\n",
              "  <thead>\n",
              "    <tr style=\"text-align: right;\">\n",
              "      <th></th>\n",
              "      <th>category</th>\n",
              "      <th>text</th>\n",
              "      <th>category_id</th>\n",
              "    </tr>\n",
              "  </thead>\n",
              "  <tbody>\n",
              "    <tr>\n",
              "      <th>0</th>\n",
              "      <td>Information</td>\n",
              "      <td>Barclays CEO stresses the importance of regula...</td>\n",
              "      <td>0</td>\n",
              "    </tr>\n",
              "    <tr>\n",
              "      <th>1</th>\n",
              "      <td>Information</td>\n",
              "      <td>Barclays announces result of Rights Issue http...</td>\n",
              "      <td>0</td>\n",
              "    </tr>\n",
              "    <tr>\n",
              "      <th>2</th>\n",
              "      <td>Information</td>\n",
              "      <td>Barclays publishes its prospectus for its ĺŁ5....</td>\n",
              "      <td>0</td>\n",
              "    </tr>\n",
              "    <tr>\n",
              "      <th>3</th>\n",
              "      <td>Information</td>\n",
              "      <td>Barclays Group Finance Director Chris Lucas is...</td>\n",
              "      <td>0</td>\n",
              "    </tr>\n",
              "    <tr>\n",
              "      <th>4</th>\n",
              "      <td>Information</td>\n",
              "      <td>Barclays announces that Irene McDermott Brown ...</td>\n",
              "      <td>0</td>\n",
              "    </tr>\n",
              "  </tbody>\n",
              "</table>\n",
              "</div>"
            ],
            "text/plain": [
              "      category                                               text  category_id\n",
              "0  Information  Barclays CEO stresses the importance of regula...            0\n",
              "1  Information  Barclays announces result of Rights Issue http...            0\n",
              "2  Information  Barclays publishes its prospectus for its ĺŁ5....            0\n",
              "3  Information  Barclays Group Finance Director Chris Lucas is...            0\n",
              "4  Information  Barclays announces that Irene McDermott Brown ...            0"
            ]
          },
          "metadata": {},
          "execution_count": 2
        }
      ]
    },
    {
      "cell_type": "markdown",
      "metadata": {
        "id": "mitVi2Q8Uiey"
      },
      "source": [
        "**Imbalanced Classes : **\n",
        "We see that the number of cases per category is imbalanced. Text messages are more biased towards Information."
      ]
    },
    {
      "cell_type": "code",
      "metadata": {
        "id": "qDsN7at5uXJp",
        "colab": {
          "base_uri": "https://localhost:8080/",
          "height": 436
        },
        "outputId": "a77684e4-eee7-4584-b4d9-82041751a6f2"
      },
      "source": [
        "import matplotlib.pyplot as plt\n",
        "fig = plt.figure(figsize=(8,6))\n",
        "df.groupby('category').text.count().plot.bar(ylim=0)\n",
        "plt.show()"
      ],
      "execution_count": 3,
      "outputs": [
        {
          "output_type": "display_data",
          "data": {
            "image/png": "[encoded data removed]",
            "text/plain": [
              "<Figure size 576x432 with 1 Axes>"
            ]
          },
          "metadata": {
            "needs_background": "light"
          }
        }
      ]
    },
    {
      "cell_type": "markdown",
      "metadata": {
        "id": "SGEqtKn1Xoq-"
      },
      "source": [
        "**One common approach for extracting features from text is to use the bag of words model**: a model where for each document, a complaint narrative in our case, the presence (and often the frequency) of words is taken into consideration, but the order in which they occur is ignored.\n",
        "\n",
        "We will use sklearn.feature_extraction.text.TfidfVectorizer to calculate a tf-idf vector for each of consumer complaint narratives:"
      ]
    },
    {
      "cell_type": "code",
      "metadata": {
        "id": "1SaVp6RNubmd",
        "colab": {
          "base_uri": "https://localhost:8080/"
        },
        "outputId": "2be7dbe8-31ba-439e-dd4c-03bce38b77c2"
      },
      "source": [
        "from sklearn.feature_extraction.text import TfidfVectorizer\n",
        "tfidf = TfidfVectorizer(sublinear_tf=True, min_df=5, norm='l2', encoding='latin-1', ngram_range=(1, 2), stop_words='english')\n",
        "features = tfidf.fit_transform(df.text).toarray()\n",
        "labels = df.category_id\n",
        "features.shape"
      ],
      "execution_count": 4,
      "outputs": [
        {
          "output_type": "execute_result",
          "data": {
            "text/plain": [
              "(3079, 1860)"
            ]
          },
          "metadata": {},
          "execution_count": 4
        }
      ]
    },
    {
      "cell_type": "markdown",
      "metadata": {
        "id": "bVCFZwn-ZHHJ"
      },
      "source": [
        "We can use **sklearn.feature_selection.chi2** to find the terms that are the most correlated with each of the products:"
      ]
    },
    {
      "cell_type": "code",
      "metadata": {
        "id": "mrcFqcsquhuI",
        "colab": {
          "base_uri": "https://localhost:8080/"
        },
        "outputId": "bae2df68-b9a0-4f54-a91a-10dd6ed34334"
      },
      "source": [
        "from sklearn.feature_selection import chi2\n",
        "import numpy as np\n",
        "N = 2\n",
        "for category, category_id in sorted(category_to_id.items()):\n",
        "  features_chi2 = chi2(features, labels == category_id)\n",
        "  indices = np.argsort(features_chi2[0])\n",
        "  feature_names = np.array(tfidf.get_feature_names())[indices]\n",
        "  unigrams = [v for v in feature_names if len(v.split(' ')) == 1]\n",
        "  bigrams = [v for v in feature_names if len(v.split(' ')) == 2]\n",
        "  print(\"# '{}':\".format(category))\n",
        "  print(\"  . Most correlated unigrams:\\n. {}\".format('\\n. '.join(unigrams[-N:])))\n",
        "  print(\"  . Most correlated bigrams:\\n. {}\".format('\\n. '.join(bigrams[-N:])))"
      ],
      "execution_count": 5,
      "outputs": [
        {
          "output_type": "stream",
          "name": "stdout",
          "text": [
            "# 'Action':\n",
            "  . Most correlated unigrams:\n",
            ". read\n",
            ". learn\n",
            "  . Most correlated bigrams:\n",
            ". formula safe\n",
            ". learn http\n",
            "# 'Dialogue':\n",
            "  . Most correlated unigrams:\n",
            ". thanks\n",
            ". citivolunteers\n",
            "  . Most correlated bigrams:\n",
            ". photo rt\n",
            ". great photo\n",
            "# 'Information':\n",
            "  . Most correlated unigrams:\n",
            ". nan\n",
            ". learn\n",
            "  . Most correlated bigrams:\n",
            ". nan gold\n",
            ". nestle nan\n"
          ]
        }
      ]
    },
    {
      "cell_type": "markdown",
      "metadata": {
        "id": "mwaLOhQ0aPq0"
      },
      "source": [
        "**Multi-Class Classifier: Features and Design**\n",
        "After all the above data transformation, now that we have all the features and labels. \n",
        "**Naive Bayes Classifier:** the one most suitable for word counts is the multinomial variant:"
      ]
    },
    {
      "cell_type": "code",
      "metadata": {
        "id": "oIVjXnymunm4"
      },
      "source": [
        "from sklearn.model_selection import train_test_split\n",
        "from sklearn.feature_extraction.text import CountVectorizer\n",
        "from sklearn.feature_extraction.text import TfidfTransformer\n",
        "from sklearn.naive_bayes import MultinomialNB\n",
        "X_train, X_test, y_train, y_test = train_test_split(df['text'], df['category'], random_state = 0)\n",
        "count_vect = CountVectorizer()\n",
        "X_train_counts = count_vect.fit_transform(X_train)\n",
        "tfidf_transformer = TfidfTransformer()\n",
        "X_train_tfidf = tfidf_transformer.fit_transform(X_train_counts)\n",
        "clf = MultinomialNB().fit(X_train_tfidf, y_train)"
      ],
      "execution_count": 6,
      "outputs": []
    },
    {
      "cell_type": "markdown",
      "metadata": {
        "id": "nswVWdK6bEFl"
      },
      "source": [
        "After fitting the training set, we now try to do some predictions."
      ]
    },
    {
      "cell_type": "code",
      "metadata": {
        "id": "VTncnNgHur_r",
        "colab": {
          "base_uri": "https://localhost:8080/"
        },
        "outputId": "255f8377-c2bf-4002-80ad-0417918aa19d"
      },
      "source": [
        "print(clf.predict(count_vect.transform([\"Barclays announces result of last quarter.\"])))"
      ],
      "execution_count": 7,
      "outputs": [
        {
          "output_type": "stream",
          "name": "stdout",
          "text": [
            "['Information']\n"
          ]
        }
      ]
    },
    {
      "cell_type": "markdown",
      "metadata": {
        "id": "GN_dn6-5dJhQ"
      },
      "source": [
        "We will try the following four models:\n",
        "Logistic Regression, \n",
        "(Multinomial) Naive Bayes,\n",
        "Linear Support Vector Machine,\n",
        "Random Forest."
      ]
    },
    {
      "cell_type": "code",
      "metadata": {
        "colab": {
          "base_uri": "https://localhost:8080/",
          "height": 280
        },
        "id": "KlBXRmGFMiGk",
        "outputId": "f07652b1-03fd-4d11-afe1-6e4477ea83e7"
      },
      "source": [
        "from sklearn.linear_model import LogisticRegression\n",
        "from sklearn.ensemble import RandomForestClassifier\n",
        "from sklearn.svm import LinearSVC\n",
        "from sklearn.model_selection import cross_val_score\n",
        "models = [\n",
        "    RandomForestClassifier(n_estimators=200, max_depth=3, random_state=0),\n",
        "    LinearSVC(),\n",
        "    MultinomialNB(),\n",
        "    LogisticRegression(random_state=0),\n",
        "]\n",
        "CV = 5\n",
        "cv_df = pd.DataFrame(index=range(CV * len(models)))\n",
        "entries = []\n",
        "for model in models:\n",
        "  model_name = model.__class__.__name__\n",
        "  accuracies = cross_val_score(model, features, labels, scoring='accuracy', cv=CV)\n",
        "  for fold_idx, accuracy in enumerate(accuracies):\n",
        "    entries.append((model_name, fold_idx, accuracy))\n",
        "cv_df = pd.DataFrame(entries, columns=['model_name', 'fold_idx', 'accuracy'])\n",
        "import seaborn as sns\n",
        "sns.boxplot(x='model_name', y='accuracy', data=cv_df)\n",
        "sns.stripplot(x='model_name', y='accuracy', data=cv_df, \n",
        "              size=8, jitter=True, edgecolor=\"gray\", linewidth=2)\n",
        "plt.show()"
      ],
      "execution_count": 8,
      "outputs": [
        {
          "output_type": "display_data",
          "data": {
            "image/png": "[encoded data removed]",
            "text/plain": [
              "<Figure size 432x288 with 1 Axes>"
            ]
          },
          "metadata": {
            "needs_background": "light"
          }
        }
      ]
    },
    {
      "cell_type": "code",
      "metadata": {
        "colab": {
          "base_uri": "https://localhost:8080/"
        },
        "id": "ggizpODbO2Oh",
        "outputId": "98fa4882-35ab-4d3a-b5f7-e38b7cb5b153"
      },
      "source": [
        "cv_df.groupby('model_name').accuracy.mean()"
      ],
      "execution_count": 9,
      "outputs": [
        {
          "output_type": "execute_result",
          "data": {
            "text/plain": [
              "model_name\n",
              "LinearSVC                 0.753212\n",
              "LogisticRegression        0.773652\n",
              "MultinomialNB             0.682082\n",
              "RandomForestClassifier    0.691458\n",
              "Name: accuracy, dtype: float64"
            ]
          },
          "metadata": {},
          "execution_count": 9
        }
      ]
    },
    {
      "cell_type": "markdown",
      "metadata": {
        "id": "ADsNviCUeBmZ"
      },
      "source": [
        "Continue with  **(LinearSVC)**, we are going to look at the confusion matrix, and show the discrepancies between predicted and actual labels."
      ]
    },
    {
      "cell_type": "code",
      "metadata": {
        "colab": {
          "base_uri": "https://localhost:8080/",
          "height": 606
        },
        "id": "5xWIfCJ9PK6Q",
        "outputId": "ec6d71db-0930-4b07-c642-c5c63f3d21c0"
      },
      "source": [
        "model = LinearSVC()\n",
        "X_train, X_test, y_train, y_test, indices_train, indices_test = train_test_split(features, labels, df.index, test_size=0.33, random_state=0)\n",
        "model.fit(X_train, y_train)\n",
        "y_pred = model.predict(X_test)\n",
        "from sklearn.metrics import confusion_matrix\n",
        "conf_mat = confusion_matrix(y_test, y_pred)\n",
        "fig, ax = plt.subplots(figsize=(10,10))\n",
        "sns.heatmap(conf_mat, annot=True, fmt='d',\n",
        "            xticklabels=category_id_df.category.values, yticklabels=category_id_df.category.values)\n",
        "plt.ylabel('Actual')\n",
        "plt.xlabel('Predicted')\n",
        "plt.show()"
      ],
      "execution_count": 10,
      "outputs": [
        {
          "output_type": "display_data",
          "data": {
            "image/png": "[encoded data removed]",
            "text/plain": [
              "<Figure size 720x720 with 2 Axes>"
            ]
          },
          "metadata": {
            "needs_background": "light"
          }
        }
      ]
    },
    {
      "cell_type": "markdown",
      "metadata": {
        "id": "70CaDWGMeSHk"
      },
      "source": [
        "There are a number of misclassifications, and it might be interesting to see what those are caused by:"
      ]
    },
    {
      "cell_type": "code",
      "metadata": {
        "colab": {
          "base_uri": "https://localhost:8080/",
          "height": 1000
        },
        "id": "U8l_jOLNP49d",
        "outputId": "ae4b3f8e-5c5a-43bb-b3cd-04dc0861312b"
      },
      "source": [
        "from IPython.display import display\n",
        "for predicted in category_id_df.category_id:\n",
        "  for actual in category_id_df.category_id:\n",
        "    if predicted != actual and conf_mat[actual, predicted] >= 10:\n",
        "      print(\"'{}' predicted as '{}' : {} examples.\".format(id_to_category[actual], id_to_category[predicted], conf_mat[actual, predicted]))\n",
        "      display(df.loc[indices_test[(y_test == actual) & (y_pred == predicted)]][['category', 'text']])\n",
        "      print('')"
      ],
      "execution_count": 11,
      "outputs": [
        {
          "output_type": "stream",
          "name": "stdout",
          "text": [
            "'Action' predicted as 'Information' : 57 examples.\n"
          ]
        },
        {
          "output_type": "display_data",
          "data": {
            "text/html": [
              "<div>\n",
              "<style scoped>\n",
              "    .dataframe tbody tr th:only-of-type {\n",
              "        vertical-align: middle;\n",
              "    }\n",
              "\n",
              "    .dataframe tbody tr th {\n",
              "        vertical-align: top;\n",
              "    }\n",
              "\n",
              "    .dataframe thead th {\n",
              "        text-align: right;\n",
              "    }\n",
              "</style>\n",
              "<table border=\"1\" class=\"dataframe\">\n",
              "  <thead>\n",
              "    <tr style=\"text-align: right;\">\n",
              "      <th></th>\n",
              "      <th>category</th>\n",
              "      <th>text</th>\n",
              "    </tr>\n",
              "  </thead>\n",
              "  <tbody>\n",
              "    <tr>\n",
              "      <th>2503</th>\n",
              "      <td>Action</td>\n",
              "      <td>Pfizer provides an update to its development p...</td>\n",
              "    </tr>\n",
              "    <tr>\n",
              "      <th>1938</th>\n",
              "      <td>Action</td>\n",
              "      <td>1 year on: See what we've achieved with the Fa...</td>\n",
              "    </tr>\n",
              "    <tr>\n",
              "      <th>1427</th>\n",
              "      <td>Action</td>\n",
              "      <td>Innovative research &amp;amp  groundbreaking partn...</td>\n",
              "    </tr>\n",
              "    <tr>\n",
              "      <th>1672</th>\n",
              "      <td>Action</td>\n",
              "      <td>Our CEO P.Bulcke speaks to #CNN about the help...</td>\n",
              "    </tr>\n",
              "    <tr>\n",
              "      <th>550</th>\n",
              "      <td>Action</td>\n",
              "      <td>Over 800 #CitiVolunteers in 11 countries acros...</td>\n",
              "    </tr>\n",
              "    <tr>\n",
              "      <th>1479</th>\n",
              "      <td>Action</td>\n",
              "      <td>@Stun NestlĚŠ believes access to water should ...</td>\n",
              "    </tr>\n",
              "    <tr>\n",
              "      <th>498</th>\n",
              "      <td>Action</td>\n",
              "      <td>Why do u #volunteer? #Citi's Mei Yang loves th...</td>\n",
              "    </tr>\n",
              "    <tr>\n",
              "      <th>1846</th>\n",
              "      <td>Action</td>\n",
              "      <td>Food Question of the Day: Which #fruit is know...</td>\n",
              "    </tr>\n",
              "    <tr>\n",
              "      <th>3085</th>\n",
              "      <td>Action</td>\n",
              "      <td>The @UNCF Ě˘âÂĺ˘ Merck Science Initiative ann...</td>\n",
              "    </tr>\n",
              "    <tr>\n",
              "      <th>2982</th>\n",
              "      <td>Action</td>\n",
              "      <td>How to stay healthy while building your startu...</td>\n",
              "    </tr>\n",
              "    <tr>\n",
              "      <th>655</th>\n",
              "      <td>Action</td>\n",
              "      <td>4 Principles of High Productivity ŰŇ Cut hour...</td>\n",
              "    </tr>\n",
              "    <tr>\n",
              "      <th>387</th>\n",
              "      <td>Action</td>\n",
              "      <td>How to Choose the Best #SocialMedia Platform f...</td>\n",
              "    </tr>\n",
              "    <tr>\n",
              "      <th>15</th>\n",
              "      <td>Action</td>\n",
              "      <td>Since 2004 we've invested ĺŁ37.5m in the #Spac...</td>\n",
              "    </tr>\n",
              "    <tr>\n",
              "      <th>2028</th>\n",
              "      <td>Action</td>\n",
              "      <td>We've launched Nestle Careers Facebook page! L...</td>\n",
              "    </tr>\n",
              "    <tr>\n",
              "      <th>474</th>\n",
              "      <td>Action</td>\n",
              "      <td>7 Steps for Leaving Your Work at Home While on...</td>\n",
              "    </tr>\n",
              "    <tr>\n",
              "      <th>335</th>\n",
              "      <td>Action</td>\n",
              "      <td>#Secrets to #networking success from @lindades...</td>\n",
              "    </tr>\n",
              "    <tr>\n",
              "      <th>2245</th>\n",
              "      <td>Action</td>\n",
              "      <td>Looking forward to taking part in #wef2014 thi...</td>\n",
              "    </tr>\n",
              "    <tr>\n",
              "      <th>1311</th>\n",
              "      <td>Action</td>\n",
              "      <td>Industry-academia collaboration panel: Mike Ro...</td>\n",
              "    </tr>\n",
              "    <tr>\n",
              "      <th>1305</th>\n",
              "      <td>Action</td>\n",
              "      <td>Interested in new #maternalhealth technologies...</td>\n",
              "    </tr>\n",
              "    <tr>\n",
              "      <th>619</th>\n",
              "      <td>Action</td>\n",
              "      <td>#Volunteering enables progress in cities aroun...</td>\n",
              "    </tr>\n",
              "    <tr>\n",
              "      <th>2189</th>\n",
              "      <td>Action</td>\n",
              "      <td>WouldnŰŞt it be great if your oven recognised...</td>\n",
              "    </tr>\n",
              "    <tr>\n",
              "      <th>1860</th>\n",
              "      <td>Action</td>\n",
              "      <td>Fiona Terry on  #TEDxRC2  stage - virtues, cha...</td>\n",
              "    </tr>\n",
              "    <tr>\n",
              "      <th>1866</th>\n",
              "      <td>Action</td>\n",
              "      <td>#Nestle France voluntarily recalls a single ba...</td>\n",
              "    </tr>\n",
              "    <tr>\n",
              "      <th>53</th>\n",
              "      <td>Action</td>\n",
              "      <td>Buy Businesses, Not Governments. http://t.co/D...</td>\n",
              "    </tr>\n",
              "    <tr>\n",
              "      <th>2079</th>\n",
              "      <td>Action</td>\n",
              "      <td>#HealthyBytes 2: No time to go for exercise? H...</td>\n",
              "    </tr>\n",
              "    <tr>\n",
              "      <th>490</th>\n",
              "      <td>Action</td>\n",
              "      <td>26,000+ĺĘ#CitiVolunteers in &amp;gt  50 #Asia Paci...</td>\n",
              "    </tr>\n",
              "    <tr>\n",
              "      <th>327</th>\n",
              "      <td>Action</td>\n",
              "      <td>How can strong cross-industry networks enable ...</td>\n",
              "    </tr>\n",
              "    <tr>\n",
              "      <th>348</th>\n",
              "      <td>Action</td>\n",
              "      <td>#TED2014 kicks off in Vancouver on Mar 17, and...</td>\n",
              "    </tr>\n",
              "    <tr>\n",
              "      <th>2860</th>\n",
              "      <td>Action</td>\n",
              "      <td>#HealthyBytes 2: No time to go for exercise? H...</td>\n",
              "    </tr>\n",
              "    <tr>\n",
              "      <th>2112</th>\n",
              "      <td>Action</td>\n",
              "      <td>#Milo has travelled far in its 80 years, it ev...</td>\n",
              "    </tr>\n",
              "    <tr>\n",
              "      <th>870</th>\n",
              "      <td>Action</td>\n",
              "      <td>4 Reasons To Buy General Electric Right Now:  ...</td>\n",
              "    </tr>\n",
              "    <tr>\n",
              "      <th>1306</th>\n",
              "      <td>Action</td>\n",
              "      <td>The @UNCF Ű˘ Merck Science Initiative annuall...</td>\n",
              "    </tr>\n",
              "    <tr>\n",
              "      <th>2472</th>\n",
              "      <td>Action</td>\n",
              "      <td>Read TSNŰŞs article on how HIV+ patients have...</td>\n",
              "    </tr>\n",
              "    <tr>\n",
              "      <th>1606</th>\n",
              "      <td>Action</td>\n",
              "      <td>JOIN WEBCAST 3pm CET: J.Lopez, EVP Global Oper...</td>\n",
              "    </tr>\n",
              "    <tr>\n",
              "      <th>1292</th>\n",
              "      <td>Action</td>\n",
              "      <td>Strong bones are critical to our health. Have ...</td>\n",
              "    </tr>\n",
              "    <tr>\n",
              "      <th>2809</th>\n",
              "      <td>Action</td>\n",
              "      <td>Announcing Partners In Progress, a joint initi...</td>\n",
              "    </tr>\n",
              "    <tr>\n",
              "      <th>2388</th>\n",
              "      <td>Action</td>\n",
              "      <td>#TSNŰŞs Jon Milton takes pride in his work at...</td>\n",
              "    </tr>\n",
              "    <tr>\n",
              "      <th>1478</th>\n",
              "      <td>Action</td>\n",
              "      <td>@Ae NestlĚŠ believes access to water should be...</td>\n",
              "    </tr>\n",
              "    <tr>\n",
              "      <th>300</th>\n",
              "      <td>Action</td>\n",
              "      <td>Watch Barclays WealthŰŞs Emma Turner and New ...</td>\n",
              "    </tr>\n",
              "    <tr>\n",
              "      <th>598</th>\n",
              "      <td>Action</td>\n",
              "      <td>RT to support #CitiVolunteers in 93 countries ...</td>\n",
              "    </tr>\n",
              "    <tr>\n",
              "      <th>670</th>\n",
              "      <td>Action</td>\n",
              "      <td>3 Best Practices for Hiring (Tip: Finding the ...</td>\n",
              "    </tr>\n",
              "    <tr>\n",
              "      <th>1477</th>\n",
              "      <td>Action</td>\n",
              "      <td>@Beach_Fox NestlĚŠ believes access to water sh...</td>\n",
              "    </tr>\n",
              "    <tr>\n",
              "      <th>2537</th>\n",
              "      <td>Action</td>\n",
              "      <td>Participate in National Cholesterol Education ...</td>\n",
              "    </tr>\n",
              "    <tr>\n",
              "      <th>3008</th>\n",
              "      <td>Action</td>\n",
              "      <td>Look under the microscope with a new study by ...</td>\n",
              "    </tr>\n",
              "    <tr>\n",
              "      <th>2361</th>\n",
              "      <td>Action</td>\n",
              "      <td>RT @GetOld What do you call someone whoŰŞs 65...</td>\n",
              "    </tr>\n",
              "    <tr>\n",
              "      <th>132</th>\n",
              "      <td>Action</td>\n",
              "      <td>Barclays research shows 4 attitudes to financi...</td>\n",
              "    </tr>\n",
              "    <tr>\n",
              "      <th>41</th>\n",
              "      <td>Action</td>\n",
              "      <td>Look out for the 2nd report in our Entrepreneu...</td>\n",
              "    </tr>\n",
              "    <tr>\n",
              "      <th>2435</th>\n",
              "      <td>Action</td>\n",
              "      <td>Welcome to Twitter! @PfizerGlobalSec, Pfizer's...</td>\n",
              "    </tr>\n",
              "    <tr>\n",
              "      <th>392</th>\n",
              "      <td>Action</td>\n",
              "      <td>7 Ways to Dress to Impress w/out breaking the ...</td>\n",
              "    </tr>\n",
              "    <tr>\n",
              "      <th>893</th>\n",
              "      <td>Action</td>\n",
              "      <td>Is Citi safer than JPMorgan? And other stress-...</td>\n",
              "    </tr>\n",
              "    <tr>\n",
              "      <th>1265</th>\n",
              "      <td>Action</td>\n",
              "      <td>#Asthma causes kids to miss 13M+ school days a...</td>\n",
              "    </tr>\n",
              "    <tr>\n",
              "      <th>1476</th>\n",
              "      <td>Action</td>\n",
              "      <td>@WhoopWhoop NestlĚŠ believes access to water s...</td>\n",
              "    </tr>\n",
              "    <tr>\n",
              "      <th>2861</th>\n",
              "      <td>Action</td>\n",
              "      <td>#HealthyBytes 3: Visualize your goal. It will ...</td>\n",
              "    </tr>\n",
              "    <tr>\n",
              "      <th>755</th>\n",
              "      <td>Action</td>\n",
              "      <td>Bill Moyers:  WATCH: The United States of Ineq...</td>\n",
              "    </tr>\n",
              "    <tr>\n",
              "      <th>361</th>\n",
              "      <td>Action</td>\n",
              "      <td>Our @LinkedIn Connect #ProfWomen Network toppe...</td>\n",
              "    </tr>\n",
              "    <tr>\n",
              "      <th>1401</th>\n",
              "      <td>Action</td>\n",
              "      <td>Our CMO and other patient advocates speak toda...</td>\n",
              "    </tr>\n",
              "    <tr>\n",
              "      <th>2545</th>\n",
              "      <td>Action</td>\n",
              "      <td>PfizerŰŞs working for a healthier planet w/gr...</td>\n",
              "    </tr>\n",
              "  </tbody>\n",
              "</table>\n",
              "</div>"
            ],
            "text/plain": [
              "     category                                               text\n",
              "2503   Action  Pfizer provides an update to its development p...\n",
              "1938   Action  1 year on: See what we've achieved with the Fa...\n",
              "1427   Action  Innovative research &amp  groundbreaking partn...\n",
              "1672   Action  Our CEO P.Bulcke speaks to #CNN about the help...\n",
              "550    Action  Over 800 #CitiVolunteers in 11 countries acros...\n",
              "1479   Action  @Stun NestlĚŠ believes access to water should ...\n",
              "498    Action  Why do u #volunteer? #Citi's Mei Yang loves th...\n",
              "1846   Action  Food Question of the Day: Which #fruit is know...\n",
              "3085   Action  The @UNCF Ě˘âÂĺ˘ Merck Science Initiative ann...\n",
              "2982   Action  How to stay healthy while building your startu...\n",
              "655    Action  4 Principles of High Productivity ŰŇ Cut hour...\n",
              "387    Action  How to Choose the Best #SocialMedia Platform f...\n",
              "15     Action  Since 2004 we've invested ĺŁ37.5m in the #Spac...\n",
              "2028   Action  We've launched Nestle Careers Facebook page! L...\n",
              "474    Action  7 Steps for Leaving Your Work at Home While on...\n",
              "335    Action  #Secrets to #networking success from @lindades...\n",
              "2245   Action  Looking forward to taking part in #wef2014 thi...\n",
              "1311   Action  Industry-academia collaboration panel: Mike Ro...\n",
              "1305   Action  Interested in new #maternalhealth technologies...\n",
              "619    Action  #Volunteering enables progress in cities aroun...\n",
              "2189   Action  WouldnŰŞt it be great if your oven recognised...\n",
              "1860   Action  Fiona Terry on  #TEDxRC2  stage - virtues, cha...\n",
              "1866   Action  #Nestle France voluntarily recalls a single ba...\n",
              "53     Action  Buy Businesses, Not Governments. http://t.co/D...\n",
              "2079   Action  #HealthyBytes 2: No time to go for exercise? H...\n",
              "490    Action  26,000+ĺĘ#CitiVolunteers in &gt  50 #Asia Paci...\n",
              "327    Action  How can strong cross-industry networks enable ...\n",
              "348    Action  #TED2014 kicks off in Vancouver on Mar 17, and...\n",
              "2860   Action  #HealthyBytes 2: No time to go for exercise? H...\n",
              "2112   Action  #Milo has travelled far in its 80 years, it ev...\n",
              "870    Action  4 Reasons To Buy General Electric Right Now:  ...\n",
              "1306   Action  The @UNCF Ű˘ Merck Science Initiative annuall...\n",
              "2472   Action  Read TSNŰŞs article on how HIV+ patients have...\n",
              "1606   Action  JOIN WEBCAST 3pm CET: J.Lopez, EVP Global Oper...\n",
              "1292   Action  Strong bones are critical to our health. Have ...\n",
              "2809   Action  Announcing Partners In Progress, a joint initi...\n",
              "2388   Action  #TSNŰŞs Jon Milton takes pride in his work at...\n",
              "1478   Action  @Ae NestlĚŠ believes access to water should be...\n",
              "300    Action  Watch Barclays WealthŰŞs Emma Turner and New ...\n",
              "598    Action  RT to support #CitiVolunteers in 93 countries ...\n",
              "670    Action  3 Best Practices for Hiring (Tip: Finding the ...\n",
              "1477   Action  @Beach_Fox NestlĚŠ believes access to water sh...\n",
              "2537   Action  Participate in National Cholesterol Education ...\n",
              "3008   Action  Look under the microscope with a new study by ...\n",
              "2361   Action  RT @GetOld What do you call someone whoŰŞs 65...\n",
              "132    Action  Barclays research shows 4 attitudes to financi...\n",
              "41     Action  Look out for the 2nd report in our Entrepreneu...\n",
              "2435   Action  Welcome to Twitter! @PfizerGlobalSec, Pfizer's...\n",
              "392    Action  7 Ways to Dress to Impress w/out breaking the ...\n",
              "893    Action  Is Citi safer than JPMorgan? And other stress-...\n",
              "1265   Action  #Asthma causes kids to miss 13M+ school days a...\n",
              "1476   Action  @WhoopWhoop NestlĚŠ believes access to water s...\n",
              "2861   Action  #HealthyBytes 3: Visualize your goal. It will ...\n",
              "755    Action  Bill Moyers:  WATCH: The United States of Ineq...\n",
              "361    Action  Our @LinkedIn Connect #ProfWomen Network toppe...\n",
              "1401   Action  Our CMO and other patient advocates speak toda...\n",
              "2545   Action  PfizerŰŞs working for a healthier planet w/gr..."
            ]
          },
          "metadata": {}
        },
        {
          "output_type": "stream",
          "name": "stdout",
          "text": [
            "\n",
            "'Dialogue' predicted as 'Information' : 21 examples.\n"
          ]
        },
        {
          "output_type": "display_data",
          "data": {
            "text/html": [
              "<div>\n",
              "<style scoped>\n",
              "    .dataframe tbody tr th:only-of-type {\n",
              "        vertical-align: middle;\n",
              "    }\n",
              "\n",
              "    .dataframe tbody tr th {\n",
              "        vertical-align: top;\n",
              "    }\n",
              "\n",
              "    .dataframe thead th {\n",
              "        text-align: right;\n",
              "    }\n",
              "</style>\n",
              "<table border=\"1\" class=\"dataframe\">\n",
              "  <thead>\n",
              "    <tr style=\"text-align: right;\">\n",
              "      <th></th>\n",
              "      <th>category</th>\n",
              "      <th>text</th>\n",
              "    </tr>\n",
              "  </thead>\n",
              "  <tbody>\n",
              "    <tr>\n",
              "      <th>1857</th>\n",
              "      <td>Dialogue</td>\n",
              "      <td>Thanks. More work ahead RT@ScottPoynton Update...</td>\n",
              "    </tr>\n",
              "    <tr>\n",
              "      <th>574</th>\n",
              "      <td>Dialogue</td>\n",
              "      <td>Well done team! RT @gmitcalfe #CitiVolunteers ...</td>\n",
              "    </tr>\n",
              "    <tr>\n",
              "      <th>503</th>\n",
              "      <td>Dialogue</td>\n",
              "      <td>@VNATexas Glad we could give back! #Citivolunt...</td>\n",
              "    </tr>\n",
              "    <tr>\n",
              "      <th>1768</th>\n",
              "      <td>Dialogue</td>\n",
              "      <td>@medskep Tests reconfirm #Nestle infant formul...</td>\n",
              "    </tr>\n",
              "    <tr>\n",
              "      <th>3058</th>\n",
              "      <td>Dialogue</td>\n",
              "      <td>PfizerĚ˘âÂă˘s Adele Gulfo honored with @Spri...</td>\n",
              "    </tr>\n",
              "    <tr>\n",
              "      <th>2828</th>\n",
              "      <td>Dialogue</td>\n",
              "      <td>@GCIHealth Kudos to the diabetes team! Congrats!</td>\n",
              "    </tr>\n",
              "    <tr>\n",
              "      <th>2539</th>\n",
              "      <td>Dialogue</td>\n",
              "      <td>@jonmrich No, not in this context. @agDesignNe...</td>\n",
              "    </tr>\n",
              "    <tr>\n",
              "      <th>1293</th>\n",
              "      <td>Dialogue</td>\n",
              "      <td>Thank you Dr. Hilleman! http://t.co/8TZIlm2fUU...</td>\n",
              "    </tr>\n",
              "    <tr>\n",
              "      <th>495</th>\n",
              "      <td>Dialogue</td>\n",
              "      <td>#CitiVolunteers in 20+ cities in #Asia Pacific...</td>\n",
              "    </tr>\n",
              "    <tr>\n",
              "      <th>1482</th>\n",
              "      <td>Dialogue</td>\n",
              "      <td>@NatArchary sorry for the inconvenience caused...</td>\n",
              "    </tr>\n",
              "    <tr>\n",
              "      <th>611</th>\n",
              "      <td>Dialogue</td>\n",
              "      <td>Thank you to all the runners, walkers &amp;amp  #C...</td>\n",
              "    </tr>\n",
              "    <tr>\n",
              "      <th>2561</th>\n",
              "      <td>Dialogue</td>\n",
              "      <td>Congratulations to PfizerŰŞs MAINTAIN program...</td>\n",
              "    </tr>\n",
              "    <tr>\n",
              "      <th>1889</th>\n",
              "      <td>Dialogue</td>\n",
              "      <td>@ElaKuz @thesixthnewkid  Here's a clarificatio...</td>\n",
              "    </tr>\n",
              "    <tr>\n",
              "      <th>1066</th>\n",
              "      <td>Dialogue</td>\n",
              "      <td>@stephaniemoret hello, our scope is internatio...</td>\n",
              "    </tr>\n",
              "    <tr>\n",
              "      <th>1552</th>\n",
              "      <td>Dialogue</td>\n",
              "      <td>@angry_veteran The tests have reconfirmed the ...</td>\n",
              "    </tr>\n",
              "    <tr>\n",
              "      <th>1060</th>\n",
              "      <td>Dialogue</td>\n",
              "      <td>Congratulations to the winners! RT @DownTo_Ear...</td>\n",
              "    </tr>\n",
              "    <tr>\n",
              "      <th>1691</th>\n",
              "      <td>Dialogue</td>\n",
              "      <td>@FoodMuse .. what has this got to do with Nest...</td>\n",
              "    </tr>\n",
              "    <tr>\n",
              "      <th>2831</th>\n",
              "      <td>Dialogue</td>\n",
              "      <td>@HealthyNewborns So are we!</td>\n",
              "    </tr>\n",
              "    <tr>\n",
              "      <th>1386</th>\n",
              "      <td>Dialogue</td>\n",
              "      <td>@GCIHealth Kudos to the diabetes team! Congrats!</td>\n",
              "    </tr>\n",
              "    <tr>\n",
              "      <th>2643</th>\n",
              "      <td>Dialogue</td>\n",
              "      <td>People who take their #meds are more productiv...</td>\n",
              "    </tr>\n",
              "    <tr>\n",
              "      <th>1791</th>\n",
              "      <td>Dialogue</td>\n",
              "      <td>@WikiPOV Withdrawal of #Guigoz1 limited to 1ba...</td>\n",
              "    </tr>\n",
              "  </tbody>\n",
              "</table>\n",
              "</div>"
            ],
            "text/plain": [
              "      category                                               text\n",
              "1857  Dialogue  Thanks. More work ahead RT@ScottPoynton Update...\n",
              "574   Dialogue  Well done team! RT @gmitcalfe #CitiVolunteers ...\n",
              "503   Dialogue  @VNATexas Glad we could give back! #Citivolunt...\n",
              "1768  Dialogue  @medskep Tests reconfirm #Nestle infant formul...\n",
              "3058  Dialogue  PfizerĚ˘âÂă˘s Adele Gulfo honored with @Spri...\n",
              "2828  Dialogue   @GCIHealth Kudos to the diabetes team! Congrats!\n",
              "2539  Dialogue  @jonmrich No, not in this context. @agDesignNe...\n",
              "1293  Dialogue  Thank you Dr. Hilleman! http://t.co/8TZIlm2fUU...\n",
              "495   Dialogue  #CitiVolunteers in 20+ cities in #Asia Pacific...\n",
              "1482  Dialogue  @NatArchary sorry for the inconvenience caused...\n",
              "611   Dialogue  Thank you to all the runners, walkers &amp  #C...\n",
              "2561  Dialogue  Congratulations to PfizerŰŞs MAINTAIN program...\n",
              "1889  Dialogue  @ElaKuz @thesixthnewkid  Here's a clarificatio...\n",
              "1066  Dialogue  @stephaniemoret hello, our scope is internatio...\n",
              "1552  Dialogue  @angry_veteran The tests have reconfirmed the ...\n",
              "1060  Dialogue  Congratulations to the winners! RT @DownTo_Ear...\n",
              "1691  Dialogue  @FoodMuse .. what has this got to do with Nest...\n",
              "2831  Dialogue                        @HealthyNewborns So are we!\n",
              "1386  Dialogue   @GCIHealth Kudos to the diabetes team! Congrats!\n",
              "2643  Dialogue  People who take their #meds are more productiv...\n",
              "1791  Dialogue  @WikiPOV Withdrawal of #Guigoz1 limited to 1ba..."
            ]
          },
          "metadata": {}
        },
        {
          "output_type": "stream",
          "name": "stdout",
          "text": [
            "\n",
            "'Information' predicted as 'Action' : 27 examples.\n"
          ]
        },
        {
          "output_type": "display_data",
          "data": {
            "text/html": [
              "<div>\n",
              "<style scoped>\n",
              "    .dataframe tbody tr th:only-of-type {\n",
              "        vertical-align: middle;\n",
              "    }\n",
              "\n",
              "    .dataframe tbody tr th {\n",
              "        vertical-align: top;\n",
              "    }\n",
              "\n",
              "    .dataframe thead th {\n",
              "        text-align: right;\n",
              "    }\n",
              "</style>\n",
              "<table border=\"1\" class=\"dataframe\">\n",
              "  <thead>\n",
              "    <tr style=\"text-align: right;\">\n",
              "      <th></th>\n",
              "      <th>category</th>\n",
              "      <th>text</th>\n",
              "    </tr>\n",
              "  </thead>\n",
              "  <tbody>\n",
              "    <tr>\n",
              "      <th>1490</th>\n",
              "      <td>Information</td>\n",
              "      <td>@peggytanous We`ve voluntarily recalled limite...</td>\n",
              "    </tr>\n",
              "    <tr>\n",
              "      <th>671</th>\n",
              "      <td>Information</td>\n",
              "      <td>Ingenuity fuels learning-Belo Horizonte City C...</td>\n",
              "    </tr>\n",
              "    <tr>\n",
              "      <th>1503</th>\n",
              "      <td>Information</td>\n",
              "      <td>@Fox2now We have voluntarily recalled limited ...</td>\n",
              "    </tr>\n",
              "    <tr>\n",
              "      <th>30</th>\n",
              "      <td>Information</td>\n",
              "      <td>Employee benefits failing to meet expectations...</td>\n",
              "    </tr>\n",
              "    <tr>\n",
              "      <th>3081</th>\n",
              "      <td>Information</td>\n",
              "      <td>Study: \"Children cooking with a parent ate mor...</td>\n",
              "    </tr>\n",
              "    <tr>\n",
              "      <th>2348</th>\n",
              "      <td>Information</td>\n",
              "      <td>The latest Human-TECH post on TSN continues di...</td>\n",
              "    </tr>\n",
              "    <tr>\n",
              "      <th>2981</th>\n",
              "      <td>Information</td>\n",
              "      <td>How do you use #crowdsourcing? @BjarkeIngels r...</td>\n",
              "    </tr>\n",
              "    <tr>\n",
              "      <th>33</th>\n",
              "      <td>Information</td>\n",
              "      <td>65% of Gen Y employees would value financial e...</td>\n",
              "    </tr>\n",
              "    <tr>\n",
              "      <th>23</th>\n",
              "      <td>Information</td>\n",
              "      <td>ŰĎEmployers must now address the fundamental ...</td>\n",
              "    </tr>\n",
              "    <tr>\n",
              "      <th>2332</th>\n",
              "      <td>Information</td>\n",
              "      <td>One of the new models being used in #drug safe...</td>\n",
              "    </tr>\n",
              "    <tr>\n",
              "      <th>2989</th>\n",
              "      <td>Information</td>\n",
              "      <td>Ingenuity fuels learning-Belo Horizonte City C...</td>\n",
              "    </tr>\n",
              "    <tr>\n",
              "      <th>641</th>\n",
              "      <td>Information</td>\n",
              "      <td>Watch the moving story of @Parinaam assisting ...</td>\n",
              "    </tr>\n",
              "    <tr>\n",
              "      <th>2511</th>\n",
              "      <td>Information</td>\n",
              "      <td>Science policy leader Joe Hammang discusses th...</td>\n",
              "    </tr>\n",
              "    <tr>\n",
              "      <th>2627</th>\n",
              "      <td>Information</td>\n",
              "      <td>PFE Invites Public to View &amp;amp  Listen to Web...</td>\n",
              "    </tr>\n",
              "    <tr>\n",
              "      <th>2984</th>\n",
              "      <td>Information</td>\n",
              "      <td>If you're enjoying our #HealthyTips, good news...</td>\n",
              "    </tr>\n",
              "    <tr>\n",
              "      <th>1113</th>\n",
              "      <td>Information</td>\n",
              "      <td>RT @FTLiveTweets : Sao Paulo accounts for 21% ...</td>\n",
              "    </tr>\n",
              "    <tr>\n",
              "      <th>1279</th>\n",
              "      <td>Information</td>\n",
              "      <td>ŰĎWe donŰŞt check our white coats at the doo...</td>\n",
              "    </tr>\n",
              "    <tr>\n",
              "      <th>1771</th>\n",
              "      <td>Information</td>\n",
              "      <td>#Nestle Waters has launched a  refreshing  Soc...</td>\n",
              "    </tr>\n",
              "    <tr>\n",
              "      <th>1915</th>\n",
              "      <td>Information</td>\n",
              "      <td>@NYFairTrade Read the most important action we...</td>\n",
              "    </tr>\n",
              "    <tr>\n",
              "      <th>2378</th>\n",
              "      <td>Information</td>\n",
              "      <td>April 28 is national #Rx drug #take-back day! ...</td>\n",
              "    </tr>\n",
              "    <tr>\n",
              "      <th>1512</th>\n",
              "      <td>Information</td>\n",
              "      <td>@latimesbiz We`ve voluntarily recalled limited...</td>\n",
              "    </tr>\n",
              "    <tr>\n",
              "      <th>2132</th>\n",
              "      <td>Information</td>\n",
              "      <td>Polish teenagers learn to cook balanced meals ...</td>\n",
              "    </tr>\n",
              "    <tr>\n",
              "      <th>583</th>\n",
              "      <td>Information</td>\n",
              "      <td>#Tip: Speak up in Meetings &amp;amp  Become More I...</td>\n",
              "    </tr>\n",
              "    <tr>\n",
              "      <th>2102</th>\n",
              "      <td>Information</td>\n",
              "      <td>Study:  Children cooking with a parent ate mor...</td>\n",
              "    </tr>\n",
              "    <tr>\n",
              "      <th>146</th>\n",
              "      <td>Information</td>\n",
              "      <td>Need staff ASAP? @GoWorkAbit can fill temporar...</td>\n",
              "    </tr>\n",
              "    <tr>\n",
              "      <th>381</th>\n",
              "      <td>Information</td>\n",
              "      <td>.@ZiaYusuf: @StreetlineInc is a great example ...</td>\n",
              "    </tr>\n",
              "    <tr>\n",
              "      <th>2858</th>\n",
              "      <td>Information</td>\n",
              "      <td>#Health is wealth panel 0915CET w/our CEO, @no...</td>\n",
              "    </tr>\n",
              "  </tbody>\n",
              "</table>\n",
              "</div>"
            ],
            "text/plain": [
              "         category                                               text\n",
              "1490  Information  @peggytanous We`ve voluntarily recalled limite...\n",
              "671   Information  Ingenuity fuels learning-Belo Horizonte City C...\n",
              "1503  Information  @Fox2now We have voluntarily recalled limited ...\n",
              "30    Information  Employee benefits failing to meet expectations...\n",
              "3081  Information  Study: \"Children cooking with a parent ate mor...\n",
              "2348  Information  The latest Human-TECH post on TSN continues di...\n",
              "2981  Information  How do you use #crowdsourcing? @BjarkeIngels r...\n",
              "33    Information  65% of Gen Y employees would value financial e...\n",
              "23    Information  ŰĎEmployers must now address the fundamental ...\n",
              "2332  Information  One of the new models being used in #drug safe...\n",
              "2989  Information  Ingenuity fuels learning-Belo Horizonte City C...\n",
              "641   Information  Watch the moving story of @Parinaam assisting ...\n",
              "2511  Information  Science policy leader Joe Hammang discusses th...\n",
              "2627  Information  PFE Invites Public to View &amp  Listen to Web...\n",
              "2984  Information  If you're enjoying our #HealthyTips, good news...\n",
              "1113  Information  RT @FTLiveTweets : Sao Paulo accounts for 21% ...\n",
              "1279  Information  ŰĎWe donŰŞt check our white coats at the doo...\n",
              "1771  Information  #Nestle Waters has launched a  refreshing  Soc...\n",
              "1915  Information  @NYFairTrade Read the most important action we...\n",
              "2378  Information  April 28 is national #Rx drug #take-back day! ...\n",
              "1512  Information  @latimesbiz We`ve voluntarily recalled limited...\n",
              "2132  Information  Polish teenagers learn to cook balanced meals ...\n",
              "583   Information  #Tip: Speak up in Meetings &amp  Become More I...\n",
              "2102  Information  Study:  Children cooking with a parent ate mor...\n",
              "146   Information  Need staff ASAP? @GoWorkAbit can fill temporar...\n",
              "381   Information  .@ZiaYusuf: @StreetlineInc is a great example ...\n",
              "2858  Information  #Health is wealth panel 0915CET w/our CEO, @no..."
            ]
          },
          "metadata": {}
        },
        {
          "output_type": "stream",
          "name": "stdout",
          "text": [
            "\n",
            "'Dialogue' predicted as 'Action' : 10 examples.\n"
          ]
        },
        {
          "output_type": "display_data",
          "data": {
            "text/html": [
              "<div>\n",
              "<style scoped>\n",
              "    .dataframe tbody tr th:only-of-type {\n",
              "        vertical-align: middle;\n",
              "    }\n",
              "\n",
              "    .dataframe tbody tr th {\n",
              "        vertical-align: top;\n",
              "    }\n",
              "\n",
              "    .dataframe thead th {\n",
              "        text-align: right;\n",
              "    }\n",
              "</style>\n",
              "<table border=\"1\" class=\"dataframe\">\n",
              "  <thead>\n",
              "    <tr style=\"text-align: right;\">\n",
              "      <th></th>\n",
              "      <th>category</th>\n",
              "      <th>text</th>\n",
              "    </tr>\n",
              "  </thead>\n",
              "  <tbody>\n",
              "    <tr>\n",
              "      <th>1723</th>\n",
              "      <td>Dialogue</td>\n",
              "      <td>@joycemakitalo @TV5manila Please be reassured ...</td>\n",
              "    </tr>\n",
              "    <tr>\n",
              "      <th>1410</th>\n",
              "      <td>Dialogue</td>\n",
              "      <td>From the Merck family to yours, we wish you a ...</td>\n",
              "    </tr>\n",
              "    <tr>\n",
              "      <th>1508</th>\n",
              "      <td>Dialogue</td>\n",
              "      <td>@najibcherif We have voluntarily recalled limi...</td>\n",
              "    </tr>\n",
              "    <tr>\n",
              "      <th>1745</th>\n",
              "      <td>Dialogue</td>\n",
              "      <td>@LISAJANEPARKER Hi LisaJane, we want to reassu...</td>\n",
              "    </tr>\n",
              "    <tr>\n",
              "      <th>1058</th>\n",
              "      <td>Dialogue</td>\n",
              "      <td>@morpheusweb Hello, just checked with customer...</td>\n",
              "    </tr>\n",
              "    <tr>\n",
              "      <th>1280</th>\n",
              "      <td>Dialogue</td>\n",
              "      <td>Thanks to everyone at #USCA2013 who added thei...</td>\n",
              "    </tr>\n",
              "    <tr>\n",
              "      <th>1299</th>\n",
              "      <td>Dialogue</td>\n",
              "      <td>Proud to call you partners! @HLFPPT @Pathfinde...</td>\n",
              "    </tr>\n",
              "    <tr>\n",
              "      <th>1690</th>\n",
              "      <td>Dialogue</td>\n",
              "      <td>@FoodMuse surely you should blame the develope...</td>\n",
              "    </tr>\n",
              "    <tr>\n",
              "      <th>1488</th>\n",
              "      <td>Dialogue</td>\n",
              "      <td>@foodsafeguru We`ve voluntarily recalled limit...</td>\n",
              "    </tr>\n",
              "    <tr>\n",
              "      <th>1875</th>\n",
              "      <td>Dialogue</td>\n",
              "      <td>@DebWharfe Australian tests have reconfirmed #...</td>\n",
              "    </tr>\n",
              "  </tbody>\n",
              "</table>\n",
              "</div>"
            ],
            "text/plain": [
              "      category                                               text\n",
              "1723  Dialogue  @joycemakitalo @TV5manila Please be reassured ...\n",
              "1410  Dialogue  From the Merck family to yours, we wish you a ...\n",
              "1508  Dialogue  @najibcherif We have voluntarily recalled limi...\n",
              "1745  Dialogue  @LISAJANEPARKER Hi LisaJane, we want to reassu...\n",
              "1058  Dialogue  @morpheusweb Hello, just checked with customer...\n",
              "1280  Dialogue  Thanks to everyone at #USCA2013 who added thei...\n",
              "1299  Dialogue  Proud to call you partners! @HLFPPT @Pathfinde...\n",
              "1690  Dialogue  @FoodMuse surely you should blame the develope...\n",
              "1488  Dialogue  @foodsafeguru We`ve voluntarily recalled limit...\n",
              "1875  Dialogue  @DebWharfe Australian tests have reconfirmed #..."
            ]
          },
          "metadata": {}
        },
        {
          "output_type": "stream",
          "name": "stdout",
          "text": [
            "\n"
          ]
        }
      ]
    },
    {
      "cell_type": "markdown",
      "metadata": {
        "id": "vNoirLU9eiAQ"
      },
      "source": [
        "we use the **chi-squared test** to find the terms that are the most correlated with each of the categories:"
      ]
    },
    {
      "cell_type": "code",
      "metadata": {
        "colab": {
          "base_uri": "https://localhost:8080/"
        },
        "id": "evd9gYGTTWrJ",
        "outputId": "68b89c84-2e09-4399-cb4a-5fefc5f07ce5"
      },
      "source": [
        "model.fit(features, labels)\n",
        "N = 2\n",
        "for category, category_id in sorted(category_to_id.items()):\n",
        "  indices = np.argsort(model.coef_[category_id])\n",
        "  feature_names = np.array(tfidf.get_feature_names())[indices]\n",
        "  unigrams = [v for v in reversed(feature_names) if len(v.split(' ')) == 1][:N]\n",
        "  bigrams = [v for v in reversed(feature_names) if len(v.split(' ')) == 2][:N]\n",
        "  print(\"# '{}':\".format(category))\n",
        "  print(\"  . Top unigrams:\\n       . {}\".format('\\n       . '.join(unigrams)))\n",
        "  print(\"  . Top bigrams:\\n       . {}\".format('\\n       . '.join(bigrams)))"
      ],
      "execution_count": 12,
      "outputs": [
        {
          "output_type": "stream",
          "name": "stdout",
          "text": [
            "# 'Action':\n",
            "  . Top unigrams:\n",
            "       . read\n",
            "       . learn\n",
            "  . Top bigrams:\n",
            "       . learn http\n",
            "       . read http\n",
            "# 'Dialogue':\n",
            "  . Top unigrams:\n",
            "       . thanks\n",
            "       . congrats\n",
            "  . Top bigrams:\n",
            "       . good work\n",
            "       . fun rt\n",
            "# 'Information':\n",
            "  . Top unigrams:\n",
            "       . canada\n",
            "       . danone\n",
            "  . Top bigrams:\n",
            "       . sold http\n",
            "       . responsibility merck\n"
          ]
        }
      ]
    },
    {
      "cell_type": "markdown",
      "metadata": {
        "id": "2bovI6C6evLb"
      },
      "source": [
        "Finally, we print out the classification report for each class:"
      ]
    },
    {
      "cell_type": "code",
      "metadata": {
        "colab": {
          "base_uri": "https://localhost:8080/"
        },
        "id": "nwxmjEkJTzwN",
        "outputId": "b6a5f5e6-82d5-4516-eaaf-ff90d80e2258"
      },
      "source": [
        "from sklearn import metrics\n",
        "print(metrics.classification_report(y_test, y_pred, target_names=df['category'].unique()))"
      ],
      "execution_count": 13,
      "outputs": [
        {
          "output_type": "stream",
          "name": "stdout",
          "text": [
            "              precision    recall  f1-score   support\n",
            "\n",
            " Information       0.90      0.96      0.93       706\n",
            "      Action       0.82      0.75      0.79       232\n",
            "    Dialogue       0.91      0.61      0.73        79\n",
            "\n",
            "    accuracy                           0.88      1017\n",
            "   macro avg       0.88      0.77      0.81      1017\n",
            "weighted avg       0.88      0.88      0.88      1017\n",
            "\n"
          ]
        }
      ]
    }
  ]
}